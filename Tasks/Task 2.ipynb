{
 "cells": [
  {
   "attachments": {
    "instant.PNG": {
     "image/png": "[encoded data removed]"
    }
   },
   "cell_type": "markdown",
   "id": "b72efc6b",
   "metadata": {},
   "source": [
    "![instant.PNG](attachment:instant.PNG)"
   ]
  },
  {
   "cell_type": "markdown",
   "id": "6ee4dfc4",
   "metadata": {},
   "source": [
    "                                                    day2 (30/8/2022)"
   ]
  },
  {
   "cell_type": "markdown",
   "id": "a20ee7ae",
   "metadata": {},
   "source": [
    "# Task 1"
   ]
  },
  {
   "cell_type": "markdown",
   "id": "99a31423",
   "metadata": {},
   "source": [
    "#### How to hide the password while typing it in python ?\n",
    "----------------------------------------------"
   ]
  },
  {
   "cell_type": "code",
   "execution_count": 2,
   "id": "04844243",
   "metadata": {},
   "outputs": [
    {
     "name": "stdout",
     "output_type": "stream",
     "text": [
      "········\n"
     ]
    }
   ],
   "source": [
    "from getpass import getpass\n",
    "\n",
    "pas = getpass()\n",
    "Password: 'secret'"
   ]
  },
  {
   "cell_type": "markdown",
   "id": "ce5e91de",
   "metadata": {},
   "source": [
    "-------------------------------------------\n",
    "-------------------------------------------"
   ]
  },
  {
   "cell_type": "markdown",
   "id": "14c5b7db",
   "metadata": {},
   "source": [
    "# Task 2"
   ]
  },
  {
   "cell_type": "markdown",
   "id": "dc1eaf59",
   "metadata": {},
   "source": [
    "#### code that do the same performance of DO While in python\n",
    "---------------------------------------------------"
   ]
  },
  {
   "cell_type": "code",
   "execution_count": 3,
   "id": "92022976",
   "metadata": {},
   "outputs": [],
   "source": [
    "c = True\n",
    "x = 5\n",
    "y = 8\n",
    "while c:\n",
    "    if x > y:\n",
    "        pass #do something\n",
    "    else: \n",
    "        c = False \n",
    "        pass #do something\n"
   ]
  },
  {
   "cell_type": "markdown",
   "id": "7be2e937",
   "metadata": {},
   "source": [
    "-----------------------------\n",
    "--------------------------------"
   ]
  },
  {
   "cell_type": "markdown",
   "id": "eb3aa2e4",
   "metadata": {},
   "source": [
    "# Task 3"
   ]
  },
  {
   "cell_type": "markdown",
   "id": "7663331d",
   "metadata": {},
   "source": [
    "#### a python code that pass by 2 one time and pass by times 2 another time\n",
    "--------------------------------------------"
   ]
  },
  {
   "cell_type": "code",
   "execution_count": 4,
   "id": "ffddf34c",
   "metadata": {},
   "outputs": [
    {
     "name": "stdout",
     "output_type": "stream",
     "text": [
      "2\n",
      "4\n",
      "8\n",
      "16\n",
      "32\n",
      "64\n",
      "128\n",
      "256\n",
      "512\n",
      "1024\n"
     ]
    }
   ],
   "source": [
    "# increament by 2\n",
    "for x in (2**p for p in range(1, 11)):\n",
    "    print(x)"
   ]
  },
  {
   "cell_type": "code",
   "execution_count": 5,
   "id": "6b9dfbc8",
   "metadata": {},
   "outputs": [
    {
     "name": "stdout",
     "output_type": "stream",
     "text": [
      "1\n",
      "4\n",
      "9\n",
      "16\n",
      "25\n",
      "36\n",
      "49\n",
      "64\n",
      "81\n",
      "100\n"
     ]
    }
   ],
   "source": [
    "# increament by power 2\n",
    "for i in (p**2 for p in range(1, 11)):\n",
    "    print(i)"
   ]
  },
  {
   "cell_type": "markdown",
   "id": "73e3f512",
   "metadata": {},
   "source": [
    "# Task 4"
   ]
  },
  {
   "cell_type": "markdown",
   "id": "c791cf2b",
   "metadata": {},
   "source": [
    "#### how to make infinite for loop in python without using extra memory\n",
    "-----------------------------------------------\n",
    "\n",
    "NOTE: DON'T RUN IT !"
   ]
  },
  {
   "cell_type": "code",
   "execution_count": 6,
   "id": "cdc7dcea",
   "metadata": {},
   "outputs": [],
   "source": [
    "#for i in iter(int, 1):\n",
    "#    print(i)"
   ]
  },
  {
   "cell_type": "markdown",
   "id": "9699856a",
   "metadata": {},
   "source": [
    "----------------------------------------------\n",
    "--------------------------------------------"
   ]
  },
  {
   "cell_type": "markdown",
   "id": "431fe170",
   "metadata": {},
   "source": [
    "# Task 5"
   ]
  },
  {
   "cell_type": "markdown",
   "id": "dc1467f9",
   "metadata": {},
   "source": [
    "#### What is dependency injection ?\n",
    "-----------------------------------"
   ]
  },
  {
   "cell_type": "markdown",
   "id": "9f5580bc",
   "metadata": {},
   "source": [
    " - Dependency Injection (DI) is a design pattern used to implement IoC. It allows the creation of dependent objects outside of a class and provides those objects to a class through different ways. Using DI, we move the creation and binding of the  dependent objects outside of the class that depends on them.\n",
    "\n",
    "- The Dependency Injection pattern involves 3 types of classes:\n",
    " 1. Client Class: The client class (dependent class) is a class which depends on the service class\n",
    " 2. Service Class: The service class (dependency) is a class that provides service to the client class.\n",
    " 3. Injector Class: The injector class injects the service class object into the client class.\n",
    "\n",
    "\n",
    "- Types of Dependency Injection\n",
    "\n",
    " - As you have seen above, the injector class injects the service (dependency) to the client (dependent). The injector class injects dependencies broadly in three ways: through a constructor, through a property, or through a method:\n",
    "  1. Constructor Injection: In the constructor injection, the injector supplies the service (dependency) through the client \n",
    "       class constructor.\n",
    "\n",
    "  2. Property Injection: In the property injection (aka the Setter Injection), the injector supplies the dependency through a \n",
    "       public property of the client class.\n",
    "\n",
    "  3. Method Injection: In this type of injection, the client class implements an interface which declares the method(s) to \n",
    "       supply the dependency and the injector uses this interface to supply the dependency to the client class."
   ]
  },
  {
   "cell_type": "markdown",
   "id": "6bbff9e7",
   "metadata": {},
   "source": [
    "------------------------------------------------------------\n",
    "----------------------------------------------------------"
   ]
  },
  {
   "cell_type": "markdown",
   "id": "5d8f9bf4",
   "metadata": {},
   "source": [
    "# Task 6"
   ]
  },
  {
   "cell_type": "markdown",
   "id": "9681387f",
   "metadata": {},
   "source": [
    "#### What are the clean code rules or principles ?\n",
    "---------------------"
   ]
  },
  {
   "cell_type": "markdown",
   "id": "88da602b",
   "metadata": {},
   "source": [
    "Code is clean if it can be understood easily – by everyone on the team. Clean code can be read and enhanced by a developer other than its original author. With understandability comes readability, changeability, extensibility and maintainability.\n",
    "_____________________________________\n",
    "\n",
    "#### General rules\n",
    "1. Follow standard conventions.\n",
    "2. Keep it simple stupid. Simpler is always better. Reduce complexity as much as possible.\n",
    "3. Boy scout rule. Leave the campground cleaner than you found it.\n",
    "4. Always find root cause. Always look for the root cause of a problem.\n",
    "\n",
    "#### Design rules\n",
    "1. Keep configurable data at high levels.\n",
    "2. Prefer polymorphism to if/else or switch/case.\n",
    "3. Separate multi-threading code.\n",
    "4. Prevent over-configurability.\n",
    "5. Use dependency injection.\n",
    "6. Follow Law of Demeter. A class should know only its direct dependencies.\n",
    "\n",
    "#### Understandability tips\n",
    "1. Be consistent. If you do something a certain way, do all similar things in the same way.\n",
    "2. Use explanatory variables.\n",
    "3. Encapsulate boundary conditions. Boundary conditions are hard to keep track of. Put the processing for them in one place.\n",
    "4. Prefer dedicated value objects to primitive type.\n",
    "5. Avoid logical dependency. Don't write methods which works correctly depending on something else in the same class.\n",
    "6. Avoid negative conditionals.\n",
    "\n",
    "#### Names rules\n",
    "1. Choose descriptive and unambiguous names.\n",
    "2. Make meaningful distinction.\n",
    "3. Use pronounceable names.\n",
    "4. Use searchable names.\n",
    "5. Replace magic numbers with named constants.\n",
    "6. Avoid encodings. Don't append prefixes or type information.\n",
    "\n",
    "#### Functions rules\n",
    "1. Small.\n",
    "2. Do one thing.\n",
    "3. Use descriptive names.\n",
    "4. Prefer fewer arguments.\n",
    "5. Have no side effects.\n",
    "6. Don't use flag arguments. Split method into several independent methods that can be called from the client without the flag.\n",
    "\n",
    "#### Comments rules\n",
    "1. Always try to explain yourself in code.\n",
    "2. Don't be redundant.\n",
    "3. Don't add obvious noise.\n",
    "4. Don't use closing brace comments.\n",
    "5. Don't comment out code. Just remove.\n",
    "6. Use as explanation of intent.\n",
    "7. Use as clarification of code.\n",
    "8. Use as warning of consequences.\n",
    "\n",
    "#### Source code structure\n",
    "1. Separate concepts vertically.\n",
    "2. Related code should appear vertically dense.\n",
    "3. Declare variables close to their usage.\n",
    "4. Dependent functions should be close.\n",
    "5. Similar functions should be close.\n",
    "6. Place functions in the downward direction.\n",
    "7. Keep lines short.\n",
    "8. Don't use horizontal alignment.\n",
    "9. Use white space to associate related things and disassociate weakly related.\n",
    "10. Don't break indentation.\n",
    "\n",
    "#### Objects and data structures\n",
    "1. Hide internal structure.\n",
    "2. Prefer data structures.\n",
    "3. Avoid hybrids structures (half object and half data).\n",
    "4. Should be small.\n",
    "5. Do one thing.\n",
    "6. Small number of instance variables.\n",
    "7. Base class should know nothing about their derivatives.\n",
    "8. Better to have many functions than to pass some code into a function to select a behavior.\n",
    "9. Prefer non-static methods to static methods.\n",
    "\n",
    "#### Tests\n",
    "1. One assert per test.\n",
    "2. Readable.\n",
    "3. Fast.\n",
    "4. Independent.\n",
    "5. Repeatable.\n",
    "\n",
    "#### Code smells\n",
    "1. Rigidity. The software is difficult to change. A small change causes a cascade of subsequent changes.\n",
    "2. Fragility. The software breaks in many places due to a single change.\n",
    "3. Immobility. You cannot reuse parts of the code in other projects because of involved risks and high effort.\n",
    "4. Needless Complexity.\n",
    "5. Needless Repetition.\n",
    "6. Opacity. The code is hard to understand.\n"
   ]
  },
  {
   "cell_type": "markdown",
   "id": "a8240c7d",
   "metadata": {},
   "source": [
    "# Task 7\n",
    "#### What is the threads ?\n",
    "-------------------------------------------------------"
   ]
  },
  {
   "cell_type": "markdown",
   "id": "72f35870",
   "metadata": {},
   "source": [
    "#### Threads\n",
    "- A thread is a basic unit of CPU utilization, consisting of program counter, stack, set of registers, and thread ID.\n",
    "\n",
    "\n",
    "- Traditional processes have a single thread of control, There is one program counter, and one sequence of instructions \n",
    "  that can be carried out at any given time.\n",
    "\n",
    "\n",
    "- Multi-threaded applications have multiple threads within a single process, each having their own program counter, \n",
    "  stack and set of registers, but sharing common code, data, and certain structures such as open files.\n",
    "\n",
    "\n",
    "- Threads are very useful in modern programming whenever a process has multiple tasks to perform independently of the others.\n",
    "  This is particularly true when one of the tasks may block, and it is desired to allow the other tasks to proceed without  blocking.\n",
    "\n",
    "\n",
    "  ex. in a word processor, a background thread may check spelling and grammar while a foreground thread processes user input, while yet a third thread loads images from the hard drive, and a fourth does periodic automatic backups of the file being edited.\n",
    "\n",
    "\n",
    "  ex. a web server - Multiple threads allow for multiple requests to be satisfied simultaneously, without having to service requests sequentially or to fork off separate processes for every incoming request. (The latter is how this sort of thing was done before the concept of threads was developed. A daemon would listen at a port, fork off a child for every incoming request to be processed, and then go back to listening to the port.)\n",
    "\n",
    "\n",
    "\n",
    "#### Benefits\n",
    "- There are four major categories of benefits to multi-threading:   \n",
    "   1. Responsiveness - One thread may provide rapid response while other threads are blocked or slowed down doing intensive calculations.\n",
    "   2. Resource sharing - By default threads share common code, data, and other resources, which allows multiple tasks to be performed simultaneously in a single address space.\n",
    "   3. Economy - Creating and managing threads ( and context switches between them ) is much faster than performing the same tasks for processes.\n",
    "   4. Scalability, i.e. Utilization of multiprocessor architectures - A single threaded process can only run on one CPU, \n",
    "       no matter how many may be available, whereas the execution of a multi-threaded application may be split amongst available processors. ( Note that single threaded processes can still benefit from multi-processor architectures when there are multiple processes contending for the CPU, i.e. when the load average is above some certain threshold. )\n",
    "\n",
    "\n",
    "- Multicore Programming\n",
    "   - A recent trend in computer architecture is to produce chips with multiple cores, or CPUs on a single chip.\n",
    "   - A multi-threaded application running on a traditional single-core chip would have to interleave the threads. \n",
    "   - On a multi-core chip, however, the threads could be spread across the available cores, allowing true parallel processing.\n",
    "   - For operating systems, multi-core chips require new scheduling algorithms to make better use of the multiple cores available.\n",
    "   - As multi-threading becomes more pervasive and more important ( thousands instead of tens of threads ), CPUs have been developed to support more simultaneous threads per core in hardware.\n",
    "\n",
    "\n",
    "- For application programmers, there are five areas where multi-core chips present new challenges:\n",
    "   1. Identifying tasks - Examining applications to find activities that can be performed concurrently.\n",
    "   2. Balance - Finding tasks to run concurrently that provide equal value. I.e. don't waste a thread on trivial tasks.\n",
    "   3. Data splitting - To prevent the threads from interfering with one another.\n",
    "   4. Data dependency - If one task is dependent upon the results of another, then the tasks need to be synchronized to assure access in the proper order.\n",
    "  5. Testing and debugging - Inherently more difficult in parallel processing situations, as the race conditions become much more complex and difficult to identify.\n",
    "\n",
    "\n",
    "- Types of parallelize:\n",
    "  - In theory there are two different ways to parallelize the workload:\n",
    "    1. Data parallelism divides the data up amongst multiple cores ( threads ), and performs the same task on each subset of the data. For example dividing a large image up into pieces and performing the same digital image processing on each piece on different cores.\n",
    "    2. Task parallelism divides the different tasks to be performed among the different cores and performs them simultaneously.\n",
    "  - In practice no program is ever divided up solely by one or the other of these, but instead by some sort of hybrid combination.\n",
    "\n",
    "\n",
    "- Multithreading Models\n",
    "   There are two types of threads to be managed in a modern system:\n",
    "    1. User threads are supported above the kernel, without kernel support. These are the threads that application programmers would put into their programs.\n",
    "    2. Kernel threads are supported within the kernel of the OS itself. All modern OSes support kernel level threads, allowing the kernel to perform multiple simultaneous tasks and/or to service multiple kernel system calls simultaneously.\n",
    "\n",
    "\n",
    "- Many-To-One Model\n",
    "   - In the many-to-one model, many user-level threads are all mapped onto a single kernel thread.\n",
    "   - Thread management is handled by the thread library in user space, which is very efficient.\n",
    "   - However, if a blocking system call is made, then the entire process blocks, even if the other user threads would otherwise be able to continue.\n",
    "   - Because a single kernel thread can operate only on a single CPU, the many-to-one model does not allow individual processes to be split across multiple CPUs.\n",
    "   - Green threads for Solaris and GNU Portable Threads implement the many-to-one model in the past, but few systems continue to do so today.\n",
    "\n",
    "\n",
    "- One-To-One Model\n",
    "   - The one-to-one model creates a separate kernel thread to handle each user thread.\n",
    "   - One-to-one model overcomes the problems listed above involving blocking system calls and the splitting of processes across multiple CPUs.\n",
    "   - However the overhead of managing the one-to-one model is more significant, involving more overhead and slowing down the system.\n",
    "   - Most implementations of this model place a limit on how many threads can be created.\n",
    "   - Linux and Windows from 95 to XP implement the one-to-one model for threads.\n",
    "\n",
    "\n",
    "- Many-To-Many Model\n",
    "   - The many-to-many model multiplexes any number of user threads onto an equal or smaller number of kernel threads, combining the best features of the one-to-one and many-to-one models.\n",
    "   - Users have no restrictions on the number of threads created.\n",
    "   - Blocking kernel system calls do not block the entire process.\n",
    "   - Processes can be split across multiple processors.\n",
    "   - Individual processes may be allocated variable numbers of kernel threads, depending on the number of CPUs present and other factors.\n",
    "\n",
    " *One popular variation of the many-to-many model is the two-tier model, which allows either many-to-many or one-to-one operation.\n",
    " \n",
    " *IRIX, HP-UX, and Tru64 UNIX use the two-tier model, as did Solaris prior to Solaris 9.\n",
    "\n",
    "\n"
   ]
  },
  {
   "cell_type": "code",
   "execution_count": null,
   "id": "c980563b",
   "metadata": {},
   "outputs": [],
   "source": []
  }
 ],
 "metadata": {
  "kernelspec": {
   "display_name": "Python 3 (ipykernel)",
   "language": "python",
   "name": "python3"
  },
  "language_info": {
   "codemirror_mode": {
    "name": "ipython",
    "version": 3
   },
   "file_extension": ".py",
   "mimetype": "text/x-python",
   "name": "python",
   "nbconvert_exporter": "python",
   "pygments_lexer": "ipython3",
   "version": "3.9.12"
  }
 },
 "nbformat": 4,
 "nbformat_minor": 5
}
