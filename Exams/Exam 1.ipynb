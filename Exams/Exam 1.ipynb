{
 "cells": [
  {
   "cell_type": "markdown",
   "id": "c1cb25a7",
   "metadata": {},
   "source": [
    "# Orange Test 1: "
   ]
  },
  {
   "attachments": {
    "images.jpg": {
     "image/jpeg": "[encoded data removed]"
    }
   },
   "cell_type": "markdown",
   "id": "4bb55f32",
   "metadata": {},
   "source": [
    "<h1 style=\"text-align: center\"> Good Luck </h1>\n",
    "\n",
    "![images.jpg](attachment:images.jpg)"
   ]
  },
  {
   "cell_type": "markdown",
   "id": "583f9e6d",
   "metadata": {},
   "source": [
    "### Question 1: \n",
    "What is Programming?"
   ]
  },
  {
   "cell_type": "markdown",
   "id": "d5b9f064",
   "metadata": {},
   "source": []
  },
  {
   "cell_type": "markdown",
   "id": "a69a0a6f",
   "metadata": {},
   "source": [
    "### Question 2:\n",
    "What is a programming language?"
   ]
  },
  {
   "cell_type": "markdown",
   "id": "34a55bd7",
   "metadata": {},
   "source": []
  },
  {
   "cell_type": "markdown",
   "id": "46ec2773",
   "metadata": {},
   "source": [
    "### Question 3:\n",
    "What are all the differrent types of programming languages?"
   ]
  },
  {
   "cell_type": "markdown",
   "id": "ef665409",
   "metadata": {},
   "source": []
  },
  {
   "cell_type": "markdown",
   "id": "9ea9d863",
   "metadata": {},
   "source": [
    "### Question 4:\n",
    "Compare between C++ and python in all possible terms they differ in."
   ]
  },
  {
   "cell_type": "markdown",
   "id": "87e7654b",
   "metadata": {},
   "source": []
  },
  {
   "cell_type": "markdown",
   "id": "6311c267",
   "metadata": {},
   "source": [
    "### Question 5:\n",
    "\n",
    "What are all programming paradims? which is faster, which is better ?"
   ]
  },
  {
   "cell_type": "markdown",
   "id": "a8458a0e",
   "metadata": {},
   "source": []
  },
  {
   "cell_type": "markdown",
   "id": "af8ef860",
   "metadata": {},
   "source": [
    "### Question 6:\n",
    "\n",
    "How we can measure the processor performance? "
   ]
  },
  {
   "cell_type": "markdown",
   "id": "7ff7b201",
   "metadata": {},
   "source": []
  },
  {
   "cell_type": "markdown",
   "id": "9c53bfa5",
   "metadata": {},
   "source": [
    "### Question 7:\n",
    "Give an example of a recursive function (with any programming language you prefer)"
   ]
  },
  {
   "cell_type": "markdown",
   "id": "09a8c9ca",
   "metadata": {},
   "source": []
  },
  {
   "cell_type": "markdown",
   "id": "41b4ba5f",
   "metadata": {},
   "source": [
    "### Question 8:\n",
    "What is parallel processing? why do we use it ?"
   ]
  },
  {
   "cell_type": "markdown",
   "id": "bdba29df",
   "metadata": {},
   "source": []
  },
  {
   "cell_type": "markdown",
   "id": "86243c7c",
   "metadata": {},
   "source": [
    "### Question 9:\n",
    "\n",
    "Define memozation."
   ]
  },
  {
   "cell_type": "markdown",
   "id": "90699b5d",
   "metadata": {},
   "source": []
  },
  {
   "cell_type": "markdown",
   "id": "45c7dd26",
   "metadata": {},
   "source": [
    "### Question 10:\n",
    "\n",
    "what are the main 3 things that must be taken into account when we programming, and if we must sacrifice with one of them, which one would we?"
   ]
  },
  {
   "cell_type": "markdown",
   "id": "60a4fe0e",
   "metadata": {},
   "source": []
  },
  {
   "cell_type": "markdown",
   "id": "c34846b8",
   "metadata": {},
   "source": [
    "### Question 11:\n",
    "Give a complete definition of C++ as a prgramming langauge"
   ]
  },
  {
   "cell_type": "markdown",
   "id": "4875b04a",
   "metadata": {},
   "source": []
  },
  {
   "cell_type": "markdown",
   "id": "60747af5",
   "metadata": {},
   "source": [
    "### Question 12:\n",
    "\n",
    "from your prespective, what is the difinition of AI?"
   ]
  },
  {
   "cell_type": "markdown",
   "id": "f15bdbef",
   "metadata": {},
   "source": []
  },
  {
   "cell_type": "markdown",
   "id": "0df733ca",
   "metadata": {},
   "source": [
    "### Question 13:\n",
    "Define threads? "
   ]
  },
  {
   "cell_type": "markdown",
   "id": "c16fc018",
   "metadata": {},
   "source": []
  },
  {
   "cell_type": "markdown",
   "id": "8e0bce0f",
   "metadata": {},
   "source": [
    "### Question 14:\n",
    "what is cach memory? "
   ]
  },
  {
   "cell_type": "markdown",
   "id": "fa0b6444",
   "metadata": {},
   "source": []
  },
  {
   "cell_type": "markdown",
   "id": "8384600a",
   "metadata": {},
   "source": [
    "### Question 15:\n",
    "why we need an operating system? what is its role?"
   ]
  },
  {
   "cell_type": "markdown",
   "id": "649968f1",
   "metadata": {},
   "source": []
  },
  {
   "cell_type": "markdown",
   "id": "addfa7b3",
   "metadata": {},
   "source": [
    "### Question 16:\n",
    "how the data are stored in memory? "
   ]
  },
  {
   "cell_type": "markdown",
   "id": "7923d833",
   "metadata": {},
   "source": []
  },
  {
   "cell_type": "markdown",
   "id": "c8fe5f2f",
   "metadata": {},
   "source": [
    "### Question 17:\n",
    "Why did we need data structures in the first place? "
   ]
  },
  {
   "cell_type": "markdown",
   "id": "9d060de2",
   "metadata": {},
   "source": []
  },
  {
   "cell_type": "markdown",
   "id": "01e46c31",
   "metadata": {},
   "source": [
    "### Question 18:\n",
    "\n",
    "How to make our code clean? give at least 7 tips"
   ]
  },
  {
   "cell_type": "markdown",
   "id": "0f6fa065",
   "metadata": {},
   "source": []
  },
  {
   "cell_type": "markdown",
   "id": "16274d03",
   "metadata": {},
   "source": [
    "### Question 19:\n",
    "\n",
    "what is software engineering?"
   ]
  },
  {
   "cell_type": "markdown",
   "id": "64a322f9",
   "metadata": {},
   "source": []
  },
  {
   "cell_type": "markdown",
   "id": "7625cb46",
   "metadata": {},
   "source": [
    "### Question 20:\n",
    "why could we use C++ to program almost everything?"
   ]
  },
  {
   "cell_type": "markdown",
   "id": "eb36a61c",
   "metadata": {},
   "source": []
  },
  {
   "cell_type": "markdown",
   "id": "3b300b14",
   "metadata": {},
   "source": [
    "### Question 21:\n",
    "\n",
    "What is the difference between programming and scripting language? "
   ]
  },
  {
   "cell_type": "markdown",
   "id": "c7f52ef8",
   "metadata": {},
   "source": []
  },
  {
   "cell_type": "markdown",
   "id": "4b35501d",
   "metadata": {},
   "source": [
    "### Question 22:\n",
    "What are the basic concepts that we must learn when we learn any programming language?"
   ]
  },
  {
   "cell_type": "markdown",
   "id": "00e767de",
   "metadata": {},
   "source": []
  },
  {
   "cell_type": "markdown",
   "id": "5e0d6ec8",
   "metadata": {},
   "source": [
    "### Question 23:\n",
    "Why we need to use OOP?"
   ]
  },
  {
   "cell_type": "markdown",
   "id": "8bb16efb",
   "metadata": {},
   "source": []
  },
  {
   "cell_type": "markdown",
   "id": "7c2d8259",
   "metadata": {},
   "source": [
    "### Question 24:\n",
    "\n",
    "What is an API?"
   ]
  },
  {
   "cell_type": "markdown",
   "id": "25848e02",
   "metadata": {},
   "source": []
  },
  {
   "cell_type": "markdown",
   "id": "9043081e",
   "metadata": {},
   "source": [
    "### Question 25:\n",
    "how can we write a system with multiple programming languages? and when must we?"
   ]
  },
  {
   "cell_type": "markdown",
   "id": "4dd7c70f",
   "metadata": {},
   "source": []
  },
  {
   "cell_type": "markdown",
   "id": "a76a17f2",
   "metadata": {},
   "source": [
    "### Question 26:"
   ]
  },
  {
   "cell_type": "markdown",
   "id": "1a9882b4",
   "metadata": {},
   "source": [
    "What are Design patterns? why do we use it? "
   ]
  },
  {
   "cell_type": "markdown",
   "id": "932fcf4f",
   "metadata": {},
   "source": []
  },
  {
   "cell_type": "markdown",
   "id": "a38a85b9",
   "metadata": {},
   "source": [
    "### Question 27:\n",
    "What are architecture patterns? "
   ]
  },
  {
   "cell_type": "markdown",
   "id": "dfab9b06",
   "metadata": {},
   "source": []
  },
  {
   "cell_type": "markdown",
   "id": "800942c2",
   "metadata": {},
   "source": [
    "### Question 28:\n",
    "from your prespective, how can we improve programming in such a way that improves mentality?"
   ]
  },
  {
   "cell_type": "markdown",
   "id": "0ce7e027",
   "metadata": {},
   "source": []
  },
  {
   "cell_type": "markdown",
   "id": "ccdee6e8",
   "metadata": {},
   "source": [
    "### Question 29:\n",
    "what are the pros and cons of automation? "
   ]
  },
  {
   "cell_type": "markdown",
   "id": "c779109b",
   "metadata": {},
   "source": []
  },
  {
   "cell_type": "markdown",
   "id": "8803bf4f",
   "metadata": {},
   "source": [
    "### Question 30:\n",
    "what is the benifit of learning problem solving? "
   ]
  },
  {
   "cell_type": "markdown",
   "id": "8e80b010",
   "metadata": {},
   "source": []
  },
  {
   "cell_type": "markdown",
   "id": "4ccc601d",
   "metadata": {},
   "source": [
    "### Question 31 ( bonus ): \n",
    "what is my favorite TV show?"
   ]
  },
  {
   "cell_type": "markdown",
   "id": "ed49987a",
   "metadata": {},
   "source": []
  },
  {
   "cell_type": "markdown",
   "id": "1cd8df38",
   "metadata": {},
   "source": [
    "### Question 32:\n",
    "\n",
    "what are the different types of databases, what is the pros and cons of each type? "
   ]
  },
  {
   "cell_type": "markdown",
   "id": "5b87cfba",
   "metadata": {},
   "source": []
  },
  {
   "cell_type": "markdown",
   "id": "bfe7bc06",
   "metadata": {},
   "source": [
    "### Question 33:\n",
    "how the data is transfered between memory and processor? "
   ]
  },
  {
   "cell_type": "markdown",
   "id": "8b2dcd29",
   "metadata": {},
   "source": []
  },
  {
   "cell_type": "markdown",
   "id": "7595ef2c",
   "metadata": {},
   "source": [
    "### Question 34:\n",
    "What are the most common scheduling algorithms? "
   ]
  },
  {
   "cell_type": "markdown",
   "id": "d15e0c21",
   "metadata": {},
   "source": []
  },
  {
   "cell_type": "markdown",
   "id": "f6fdb7aa",
   "metadata": {},
   "source": [
    "### Question 35:\n",
    "What is SDLC?"
   ]
  },
  {
   "cell_type": "markdown",
   "id": "7e56f372",
   "metadata": {},
   "source": []
  },
  {
   "cell_type": "markdown",
   "id": "42ec4dc4",
   "metadata": {},
   "source": [
    "### Question 36:\n",
    "Why do we need software engineering? "
   ]
  },
  {
   "cell_type": "markdown",
   "id": "9c786441",
   "metadata": {},
   "source": []
  },
  {
   "cell_type": "markdown",
   "id": "21f44454",
   "metadata": {},
   "source": [
    "### Question 37:\n",
    "what are distributed systems?"
   ]
  },
  {
   "cell_type": "markdown",
   "id": "b91b9315",
   "metadata": {},
   "source": []
  },
  {
   "cell_type": "markdown",
   "id": "3e111d69",
   "metadata": {},
   "source": [
    "### Question 38:\n",
    "what are the difference between functional and non functional requirments?"
   ]
  },
  {
   "cell_type": "markdown",
   "id": "defdee01",
   "metadata": {},
   "source": []
  },
  {
   "cell_type": "markdown",
   "id": "0e672d82",
   "metadata": {},
   "source": [
    "### Question 39: (bonus)\n",
    "what are the main topics to be covered in problem solving ?"
   ]
  },
  {
   "cell_type": "markdown",
   "id": "be1fece0",
   "metadata": {},
   "source": []
  },
  {
   "cell_type": "markdown",
   "id": "e3b62c8a",
   "metadata": {},
   "source": [
    "### Question 40: \n",
    "what do you know about machine learning?"
   ]
  },
  {
   "cell_type": "markdown",
   "id": "67327e3b",
   "metadata": {},
   "source": []
  }
 ],
 "metadata": {
  "kernelspec": {
   "display_name": "Python 3 (ipykernel)",
   "language": "python",
   "name": "python3"
  },
  "language_info": {
   "codemirror_mode": {
    "name": "ipython",
    "version": 3
   },
   "file_extension": ".py",
   "mimetype": "text/x-python",
   "name": "python",
   "nbconvert_exporter": "python",
   "pygments_lexer": "ipython3",
   "version": "3.9.13"
  },
  "toc": {
   "base_numbering": 1,
   "nav_menu": {},
   "number_sections": false,
   "sideBar": true,
   "skip_h1_title": false,
   "title_cell": "Table of Contents",
   "title_sidebar": "Contents",
   "toc_cell": false,
   "toc_position": {},
   "toc_section_display": true,
   "toc_window_display": false
  },
  "varInspector": {
   "cols": {
    "lenName": 16,
    "lenType": 16,
    "lenVar": 40
   },
   "kernels_config": {
    "python": {
     "delete_cmd_postfix": "",
     "delete_cmd_prefix": "del ",
     "library": "var_list.py",
     "varRefreshCmd": "print(var_dic_list())"
    },
    "r": {
     "delete_cmd_postfix": ") ",
     "delete_cmd_prefix": "rm(",
     "library": "var_list.r",
     "varRefreshCmd": "cat(var_dic_list()) "
    }
   },
   "types_to_exclude": [
    "module",
    "function",
    "builtin_function_or_method",
    "instance",
    "_Feature"
   ],
   "window_display": false
  }
 },
 "nbformat": 4,
 "nbformat_minor": 5
}
