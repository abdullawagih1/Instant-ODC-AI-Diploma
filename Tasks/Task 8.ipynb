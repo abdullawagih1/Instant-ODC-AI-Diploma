{
 "cells": [
  {
   "attachments": {
    "instant.PNG": {
     "image/png": "[encoded data removed]"
    }
   },
   "cell_type": "markdown",
   "id": "8292ea26",
   "metadata": {},
   "source": [
    "![instant.PNG](attachment:instant.PNG)"
   ]
  },
  {
   "cell_type": "markdown",
   "id": "2eae25f9",
   "metadata": {},
   "source": [
    "                                                    day8 (15/9/2022)"
   ]
  },
  {
   "cell_type": "markdown",
   "id": "8aaec0c0",
   "metadata": {},
   "source": [
    "# Task 1\n",
    "#### Comapre between Is-A and Has-A relationships\n",
    "------------------------------------------------------------------------"
   ]
  },
  {
   "attachments": {
    "car-class.png": {
     "image/png": "[encoded data removed]"
    }
   },
   "cell_type": "markdown",
   "id": "a64642b0",
   "metadata": {},
   "source": [
    "##### There are two ways we can do code reuse either by the implementation of inheritance (IS-A relationship), or object composition (HAS-A relationship)\n",
    "\n",
    "#### IS-A Relationship:\n",
    "   - In object-oriented programming, the concept of IS-A is a totally based on Inheritance, which can be of two types Class Inheritance or Interface Inheritance. It is just like saying \"A is a B type of thing\". For example, Apple is a Fruit, Car is a Vehicle etc. Inheritance is uni-directional. For example, House is a Building. But Building is not a House.\n",
    "   - It is a key point to note that you can easily identify the IS-A relationship. Wherever you see an extends keyword or implements keyword in a class declaration, then this class is said to have IS-A relationship.\n",
    "\n",
    "#### HAS-A Relationship: \n",
    "   - Composition(HAS-A) simply mean the use of instance variables that are references to other objects. For example Maruti has Engine, or House has Bathroom.\n",
    "   - Let’s understand these concepts with an example of Car class.\n",
    "\n",
    "![car-class.png](attachment:car-class.png)\n",
    "\n",
    "------------------------------------------------------------------------\n",
    "------------------------------------------------------------------------\n",
    "------------------------------------------------------------------------"
   ]
  },
  {
   "cell_type": "markdown",
   "id": "851c51d7",
   "metadata": {},
   "source": [
    "# Task 2\n",
    "#### Give examples for unstructured database.\n",
    "-----------------------------------------------------------------------"
   ]
  },
  {
   "cell_type": "markdown",
   "id": "34e562e3",
   "metadata": {},
   "source": [
    "- MongDB and CouchDB : document-oriented database with JSON schemata and querying over JavaScript\n",
    "- Redis : (Remote Dictionary Server), is the most popular key-value database. It is open-source, with a fast and distributed in-memory.\n",
    "- InfinityDB and DynamoDB : implement two other key-value stores\n",
    "- Cassandra, MariaDB, and Scylla: Columnar stores.\n",
    "- ArangoDB, InfiniteGraph, and Neo4j: popular graph databases.\n",
    "-----------------------------------------------------------------------\n",
    "-----------------------------------------------------------------------\n",
    "-----------------------------------------------------------------------"
   ]
  },
  {
   "cell_type": "markdown",
   "id": "0dc423db",
   "metadata": {},
   "source": [
    "# Task 3\n",
    "#### What is Containerization ?\n",
    "---------------------------------------------------------------------------------"
   ]
  },
  {
   "cell_type": "markdown",
   "id": "153fe851",
   "metadata": {},
   "source": [
    "- Containerization is a form of virtualization where applications run in isolated user spaces, called containers, while using the same shared operating system (OS). \n",
    "- One of the benefits of containerization is that a container is essentially a fully packaged and portable computing environment.\n",
    "- Each container is an executable package of software, running on top of a host OS. A host may support many containers concurrently, such as in the case of a complex microservices architecture that uses numerous containerized application delivery controllers (ADCs).\n",
    "\n",
    "#### Applications and services are commonly containerized:\n",
    "   - Microservices: A microservices architecture can be efficiently configured as a set of containers operating in tandem and spun-up and decommissioned as needed.\n",
    "   - Databases: Database shards can be containerized and each app given its own dedicated database instead of needing to connect all of them to a monolithic database.\n",
    "   - Web servers: Spinning up a web server within a container requires just a few command line inputs to get started, plus it avoids the need to run the server directly on the host.\n",
    "   - Containers within VMs: Containers may be run within VMs, usually to maximize hardware utilization, talk to specific services in the VM, or increase security.\n",
    "   - ADCs: An application delivery controller manages the performance and security of an app. When containerized, it makes L4-L7 services more readily available in DevOps environments.\n",
    "   \n",
    "#### Top 10 Container Management Software 2022\n",
    "   1. Docker\n",
    "   2. AWS Fargate\n",
    "   3. Google Kubernetes Engine\n",
    "   4. Amazon ECS\n",
    "   5. LXC\n",
    "   6. Container Linux by CoreOS\n",
    "   7. Microsoft Azure\n",
    "   8. Google Cloud Platform\n",
    "   9. Portainer\n",
    "   10. Apache Mesos\n",
    "--------------------------------------------------------------------------\n",
    "--------------------------------------------------------------------------\n",
    "--------------------------------------------------------------------------"
   ]
  },
  {
   "cell_type": "markdown",
   "id": "8a949335",
   "metadata": {},
   "source": [
    "# Task 4\n",
    "#### What is Hadoop, Hive, Spark, MapReduce, and Hbase ?\n",
    "------------------------------------------------------------------"
   ]
  },
  {
   "cell_type": "markdown",
   "id": "141bf025",
   "metadata": {},
   "source": [
    "### Hadoop\n",
    "- Apache Hadoop software is a framework that allows for the distributed processing of large data sets across clusters of computers using simple programming models.\n",
    "- It is designed to scale up from single servers to thousands of machines, each offering local computation and storage.\n",
    "- Rather than rely on hardware to deliver high-availability, the library itself is designed to detect and handle failures at the application layer, so delivering a highly-available service on top of a cluster of computers, each of which may be prone to failures.\n",
    "\n",
    "### Hive\n",
    "- Apache Hive is a distributed, fault-tolerant data warehouse system that enables analytics at a massive scale.\n",
    "- A data warehouse provides a central store of information that can easily be analyzed to make informed, data driven decisions.\n",
    "- Hive allows users to read, write, and manage petabytes of data using SQL.\n",
    "- Hive is built on top of Apache Hadoop.\n",
    "\n",
    "### Spark\n",
    "- Apache Spark is a data processing framework that can quickly perform processing tasks on very large data sets.\n",
    "- It can also distribute data processing tasks across multiple computers, either on its own or in tandem with other distributed computing tools.\n",
    "- Spark can be deployed in a variety of ways, provides native bindings for the Java, Scala, Python, and R programming languages, and supports SQL, streaming data, machine learning, and graph processing.\n",
    "\n",
    "### MapReduce\n",
    "- MapReduce is a programming model or pattern within the Hadoop framework that is used to access big data stored in the Hadoop File System (HDFS).\n",
    "- It is a core component, integral to the functioning of the Hadoop framework.\n",
    "- MapReduce facilitates concurrent processing by splitting petabytes of data into smaller chunks, and processing them in parallel on Hadoop commodity servers.\n",
    "- In the end, it aggregates all the data from multiple servers to return a consolidated output back to the application.\n",
    "\n",
    "### Hbase\n",
    "- HBase is a column-oriented non-relational database management system that runs on top of Hadoop Distributed File System (HDFS). HBase provides a fault-tolerant way of storing sparse data sets, which are common in many big data use cases. It is well suited for real-time data processing or random read/write access to large volumes of data.\n",
    "- Unlike relational database systems, HBase does not support a structured query language like SQL; in fact, HBase isn’t a relational data store at all. HBase applications are written in Java™ much like a typical Apache MapReduce application. HBase does support writing applications in Apache Avro, REST and Thrift.\n",
    "- An HBase system is designed to scale linearly. It comprises a set of standard tables with rows and columns, much like a traditional database. Each table must have an element defined as a primary key, and all access attempts to HBase tables must use this primary key.\n",
    "---------------------------------------------------------------------------------\n",
    "---------------------------------------------------------------------------------\n",
    "---------------------------------------------------------------------------------"
   ]
  },
  {
   "cell_type": "markdown",
   "id": "048b754d",
   "metadata": {},
   "source": [
    "# Task 5\n",
    "#### Compare between Docker and Kubernetes\n",
    "--------------------------------------------------------------------------"
   ]
  },
  {
   "cell_type": "markdown",
   "id": "cfb9f49e",
   "metadata": {},
   "source": [
    "## 1. Docker\n",
    "- Docker is a containerization software that performs operating-system-level-virtualization.\n",
    "- The initial release of this software happened in the year 2013. It is written in ‘Go’ programming language. It’s a freemium software as a service and has Apache License 2.0 as the source code license.\n",
    "\n",
    "#### Features\n",
    "- Integrated & Automated container Security Policy.\n",
    "- Runs trusted images only.\n",
    "- No Lock-in: Supports almost any type of application, OS, infrastructure, and orchestrator.\n",
    "- Unified and automated agile operations.\n",
    "- Portable containers across the cloud.\n",
    "- Automated governance.\n",
    "\n",
    "#### Pros\n",
    "- Fits very well with CI/CD.\n",
    "- Saves storage space.\n",
    "- Plenty of docker images.\n",
    "- Saves hours in patching and downtime when compared to virtualization.\n",
    "- While working in a team, you need not worry about the different members having different versions of programming language, libraries, etc.\n",
    "- Open source.\n",
    "- A lot of plugins are available to enhance its features.\n",
    "\n",
    "#### Cons\n",
    "- Quite tough to set up.\n",
    "- Takes a fair amount of time to learn this tool.\n",
    "- Creating persistent storage requires a lot of effort.\n",
    "- Does not have a GUI.\n",
    "- Does not have built-in support for Mac.\n",
    "\n",
    "#### Tool Cost/Plan Details: \n",
    "- It is a freemium software as a service. To use in a small team, you will get the starter package at $150. \n",
    "-----------------------------------------------------------------------\n",
    "## 2. Kubernetes\n",
    "- Google Kubernetes Engine is a managed, production-ready infrastructure for implementing containerized applications. This tool was launched in the year 2015. It totally removes the need to install, handle and operate your own Kubernetes clusters.\n",
    "\n",
    "#### Features\n",
    "- Hybrid networking via Google cloud VPN.\n",
    "- Identity and access management through Google accounts.\n",
    "- HIPAA and PCI DSS 3.1 compliant.\n",
    "- Managed open-source Kubernetes.\n",
    "- Docker image support.\n",
    "- Container Optimized OS.\n",
    "- GPU Support\n",
    "- Built-in dashboard.\n",
    "\n",
    "#### Pros\n",
    "- Built-in load balancing.\n",
    "- Very intuitive GUI.\n",
    "- Effortless setup in Google cloud.\n",
    "- A cluster can be managed directly through the web interface.\n",
    "- Auto-scaling\n",
    "- Very easy to manage configurations.\n",
    "- Highly secured\n",
    "- Operates Seamlessly with 99.5% SLA.\n",
    "\n",
    "#### Cons\n",
    "- Setting up a manual cluster is quite a time consuming and costly\n",
    "- Time-consuming in detecting errors and deploying the automated fix.\n",
    "- Logs are difficult to understand.\n",
    "- Need months to expertise in this tool.\n",
    "\n",
    "#### Tool Cost/Plan Details: \n",
    "- Pricing is on the basis of per instance for nodes in the cluster. Compute Engine resources are charged on a per-second basis with a 1-min minimum usage cost. \n",
    "- The price will vary based on the number of instances, node type, storage space, etc.\n",
    "-----------------------------------------------------------------------------\n",
    "-----------------------------------------------------------------------------\n",
    "-----------------------------------------------------------------------------"
   ]
  },
  {
   "cell_type": "markdown",
   "id": "92ac6c98",
   "metadata": {},
   "source": [
    "# Task 6\n",
    "#### what's better pip or conda\n",
    "---------------------------------------------------------------------------"
   ]
  },
  {
   "cell_type": "markdown",
   "id": "b222c133",
   "metadata": {},
   "source": [
    "- If you have installed Python using Anaconda, then use conda to install Python packages. If conda tells you the package you want doesn't exist, then use conda-forge, which has more packages available than the default conda channel.\n",
    "- If you installed Python any other way (from source, using pyenv, virtualenv, etc.), then use pip to install Python packages.\n",
    "---------------------------------------------------------------------------\n",
    "---------------------------------------------------------------------------\n",
    "---------------------------------------------------------------------------"
   ]
  },
  {
   "cell_type": "markdown",
   "id": "8f0422d1",
   "metadata": {},
   "source": [
    "# Task 7 \n",
    "#### Make a regular expression for a manually entered-data of pattern : name , mail, phone number.\n",
    "------------------------------------------------------------------------------------------"
   ]
  },
  {
   "cell_type": "code",
   "execution_count": 1,
   "id": "b9e032f6",
   "metadata": {},
   "outputs": [],
   "source": [
    "import re"
   ]
  },
  {
   "cell_type": "code",
   "execution_count": 17,
   "id": "2013be23",
   "metadata": {},
   "outputs": [],
   "source": [
    "data = '''\n",
    "Dani, +49-89-636-48018, danicarvajal2@real.madrid\n",
    "Uchiha Itatch, +1-541-754-3010, uchiha_itachi21@konoha.com\n",
    "Eren Yeager, (541) 754-3010, eren.yeager1@titan.shiganshina.org\n",
    "Abdullah Wagih, +20-106-013-8401, 3bdallawagih@gmail.com\n",
    "Ahmed ali, +201145962459, ahmedali2022@icf.uz.ude.ge\n",
    "'''"
   ]
  },
  {
   "cell_type": "code",
   "execution_count": 18,
   "id": "21e59e52",
   "metadata": {},
   "outputs": [],
   "source": [
    "names = []\n",
    "phones = []\n",
    "emails = []\n",
    "\n",
    "# name pattern\n",
    "pattern = re.compile(r'[A-Z][a-z]*\\s[A-Z][a-z]*')\n",
    "matches = pattern.finditer(data)\n",
    "for match in matches:\n",
    "    names.append(match)\n",
    "\n",
    "# email pattern\n",
    "pattern = re.compile(r'[\\w\\.]*@\\w*\\.[\\w\\.]*')\n",
    "matches = pattern.finditer(data)\n",
    "for match in matches:\n",
    "    emails.append(match)\n",
    "\n",
    "# phone pattern\n",
    "pattern = re.compile(r'[+]\\d*-\\d*-\\d*-\\d*')\n",
    "matches = pattern.finditer(data)\n",
    "for match in matches:\n",
    "    phones.append(match)\n"
   ]
  },
  {
   "cell_type": "code",
   "execution_count": 19,
   "id": "a188ee57",
   "metadata": {},
   "outputs": [
    {
     "data": {
      "text/plain": [
       "[<re.Match object; span=(51, 64), match='Uchiha Itatch'>,\n",
       " <re.Match object; span=(110, 121), match='Eren Yeager'>,\n",
       " <re.Match object; span=(174, 188), match='Abdullah Wagih'>]"
      ]
     },
     "execution_count": 19,
     "metadata": {},
     "output_type": "execute_result"
    }
   ],
   "source": [
    "names"
   ]
  },
  {
   "cell_type": "code",
   "execution_count": 20,
   "id": "2734619e",
   "metadata": {},
   "outputs": [
    {
     "data": {
      "text/plain": [
       "[<re.Match object; span=(25, 50), match='danicarvajal2@real.madrid'>,\n",
       " <re.Match object; span=(83, 109), match='uchiha_itachi21@konoha.com'>,\n",
       " <re.Match object; span=(139, 173), match='eren.yeager1@titan.shiganshina.org'>,\n",
       " <re.Match object; span=(208, 230), match='3bdallawagih@gmail.com'>,\n",
       " <re.Match object; span=(257, 283), match='ahmedali2022@icf.uz.ude.ge'>]"
      ]
     },
     "execution_count": 20,
     "metadata": {},
     "output_type": "execute_result"
    }
   ],
   "source": [
    "emails"
   ]
  },
  {
   "cell_type": "code",
   "execution_count": 21,
   "id": "cdcd6cfc",
   "metadata": {},
   "outputs": [
    {
     "data": {
      "text/plain": [
       "[<re.Match object; span=(7, 23), match='+49-89-636-48018'>,\n",
       " <re.Match object; span=(66, 81), match='+1-541-754-3010'>,\n",
       " <re.Match object; span=(190, 206), match='+20-106-013-8401'>]"
      ]
     },
     "execution_count": 21,
     "metadata": {},
     "output_type": "execute_result"
    }
   ],
   "source": [
    "phones"
   ]
  },
  {
   "cell_type": "markdown",
   "id": "212b7eda",
   "metadata": {},
   "source": [
    "----------------------------------------------------------------------------\n",
    "----------------------------------------------------------------------------\n",
    "----------------------------------------------------------------------------"
   ]
  },
  {
   "cell_type": "markdown",
   "id": "8e507364",
   "metadata": {},
   "source": [
    "# Task 8\n",
    "#### What is SOLID principles\n",
    "--------------------------------------------------------------------"
   ]
  },
  {
   "cell_type": "markdown",
   "id": "6ed0159e",
   "metadata": {},
   "source": [
    "###### SOLID is one of the most popular sets of design principles in object-oriented software development. It’s a mnemonic acronym for the following five design principles:\n",
    "\n",
    "1. Single Responsibility Principle\n",
    "   - A class should have one, and only one, reason to change.\n",
    "2. Open/Closed Principle\n",
    "   - Software entities (classes, modules, functions, etc.) should be open for extension, but closed for modification.\n",
    "3. Liskov Substitution Principle\n",
    "   - Let method x be a property provable about objects x of type T. Then method y should be true for objects y of type S where S is a subtype of T.\n",
    "4. Interface Segregation Principle\n",
    "   - Clients should not be forced to depend upon interfaces that they do not use.\n",
    "5. Dependency Inversion\n",
    "   - High-level modules should not depend on low-level modules. Both should depend on abstractions."
   ]
  }
 ],
 "metadata": {
  "kernelspec": {
   "display_name": "Python 3 (ipykernel)",
   "language": "python",
   "name": "python3"
  },
  "language_info": {
   "codemirror_mode": {
    "name": "ipython",
    "version": 3
   },
   "file_extension": ".py",
   "mimetype": "text/x-python",
   "name": "python",
   "nbconvert_exporter": "python",
   "pygments_lexer": "ipython3",
   "version": "3.7.6"
  }
 },
 "nbformat": 4,
 "nbformat_minor": 5
}
