{
 "cells": [
  {
   "cell_type": "markdown",
   "id": "f5dd4f89",
   "metadata": {},
   "source": [
    "<h1>This is session 2 with date 30/08/2022</h1>"
   ]
  },
  {
   "cell_type": "markdown",
   "id": "bb1dcdc1",
   "metadata": {},
   "source": [
    "this next function is to print the first line in our code"
   ]
  },
  {
   "cell_type": "code",
   "execution_count": 1,
   "id": "73e001f8",
   "metadata": {},
   "outputs": [
    {
     "name": "stdout",
     "output_type": "stream",
     "text": [
      "odc\n"
     ]
    }
   ],
   "source": [
    "print(\"odc\")"
   ]
  },
  {
   "cell_type": "markdown",
   "id": "c71ed949",
   "metadata": {},
   "source": [
    "Basic concepts:\n",
    " 1. variables and data types\n",
    " 2. Basic operators\n",
    " 3. take inputs and casting\n",
    " 4. conditions\n",
    " 5. loops\n",
    " 6. functions\n",
    " 7. containers \n",
    " 8. oop\n",
    " 9. exception handling\n",
    " 10. file manipulation"
   ]
  },
  {
   "cell_type": "code",
   "execution_count": 2,
   "id": "ddb1b568",
   "metadata": {},
   "outputs": [],
   "source": [
    "x = 5"
   ]
  },
  {
   "cell_type": "code",
   "execution_count": 3,
   "id": "6d926ae5",
   "metadata": {},
   "outputs": [],
   "source": [
    "y = 4.5"
   ]
  },
  {
   "cell_type": "code",
   "execution_count": 7,
   "id": "ef55bb13",
   "metadata": {},
   "outputs": [],
   "source": [
    "z = \"yes\""
   ]
  },
  {
   "cell_type": "code",
   "execution_count": 5,
   "id": "31cd532f",
   "metadata": {},
   "outputs": [
    {
     "data": {
      "text/plain": [
       "int"
      ]
     },
     "execution_count": 5,
     "metadata": {},
     "output_type": "execute_result"
    }
   ],
   "source": [
    "type(x)"
   ]
  },
  {
   "cell_type": "code",
   "execution_count": 6,
   "id": "40da00e7",
   "metadata": {},
   "outputs": [
    {
     "data": {
      "text/plain": [
       "float"
      ]
     },
     "execution_count": 6,
     "metadata": {},
     "output_type": "execute_result"
    }
   ],
   "source": [
    "type(y)"
   ]
  },
  {
   "cell_type": "code",
   "execution_count": 8,
   "id": "f9706e31",
   "metadata": {},
   "outputs": [
    {
     "data": {
      "text/plain": [
       "str"
      ]
     },
     "execution_count": 8,
     "metadata": {},
     "output_type": "execute_result"
    }
   ],
   "source": [
    "type(z)"
   ]
  },
  {
   "cell_type": "markdown",
   "id": "51768a31",
   "metadata": {},
   "source": [
    "<h1>1.Basic operators</h1>"
   ]
  },
  {
   "cell_type": "code",
   "execution_count": 9,
   "id": "154ea168",
   "metadata": {},
   "outputs": [
    {
     "data": {
      "text/plain": [
       "6.666666666666667"
      ]
     },
     "execution_count": 9,
     "metadata": {},
     "output_type": "execute_result"
    }
   ],
   "source": [
    "# divison operator\n",
    "20/3"
   ]
  },
  {
   "cell_type": "code",
   "execution_count": 10,
   "id": "11083275",
   "metadata": {},
   "outputs": [
    {
     "data": {
      "text/plain": [
       "6"
      ]
     },
     "execution_count": 10,
     "metadata": {},
     "output_type": "execute_result"
    }
   ],
   "source": [
    "# to print the number only\n",
    "20//3"
   ]
  },
  {
   "cell_type": "code",
   "execution_count": 11,
   "id": "313d9b5c",
   "metadata": {},
   "outputs": [
    {
     "data": {
      "text/plain": [
       "0.666666666666667"
      ]
     },
     "execution_count": 11,
     "metadata": {},
     "output_type": "execute_result"
    }
   ],
   "source": [
    "# to print the fruction only\n",
    "20/3 - 20//3"
   ]
  },
  {
   "cell_type": "code",
   "execution_count": 12,
   "id": "54295bbe",
   "metadata": {},
   "outputs": [
    {
     "data": {
      "text/plain": [
       "6"
      ]
     },
     "execution_count": 12,
     "metadata": {},
     "output_type": "execute_result"
    }
   ],
   "source": [
    "# multiply operator\n",
    "2 * 3"
   ]
  },
  {
   "cell_type": "code",
   "execution_count": 13,
   "id": "82aa1e0b",
   "metadata": {},
   "outputs": [
    {
     "data": {
      "text/plain": [
       "8"
      ]
     },
     "execution_count": 13,
     "metadata": {},
     "output_type": "execute_result"
    }
   ],
   "source": [
    "# power \n",
    "2**3"
   ]
  },
  {
   "cell_type": "markdown",
   "id": "64f80d62",
   "metadata": {},
   "source": [
    "<h1>2.take inputs and casting</h1>"
   ]
  },
  {
   "cell_type": "code",
   "execution_count": 14,
   "id": "571f8471",
   "metadata": {},
   "outputs": [
    {
     "name": "stdout",
     "output_type": "stream",
     "text": [
      "ahmed\n"
     ]
    }
   ],
   "source": [
    "x=input()"
   ]
  },
  {
   "cell_type": "code",
   "execution_count": 15,
   "id": "7cd730f0",
   "metadata": {},
   "outputs": [
    {
     "data": {
      "text/plain": [
       "'ahmed'"
      ]
     },
     "execution_count": 15,
     "metadata": {},
     "output_type": "execute_result"
    }
   ],
   "source": [
    "x"
   ]
  },
  {
   "cell_type": "code",
   "execution_count": 16,
   "id": "75125217",
   "metadata": {},
   "outputs": [
    {
     "name": "stdout",
     "output_type": "stream",
     "text": [
      "3\n"
     ]
    }
   ],
   "source": [
    "x=int(input())"
   ]
  },
  {
   "cell_type": "code",
   "execution_count": 17,
   "id": "648c68dc",
   "metadata": {},
   "outputs": [
    {
     "name": "stdout",
     "output_type": "stream",
     "text": [
      "please enter your username:radwasayed\n"
     ]
    }
   ],
   "source": [
    "x=input(\"please enter your username:\")"
   ]
  },
  {
   "cell_type": "markdown",
   "id": "ce6f47f6",
   "metadata": {},
   "source": [
    "<h1>3.conditions</h1>"
   ]
  },
  {
   "cell_type": "code",
   "execution_count": 19,
   "id": "7720df0b",
   "metadata": {},
   "outputs": [
    {
     "data": {
      "text/plain": [
       "True"
      ]
     },
     "execution_count": 19,
     "metadata": {},
     "output_type": "execute_result"
    }
   ],
   "source": [
    "3==2+1"
   ]
  },
  {
   "cell_type": "code",
   "execution_count": 18,
   "id": "56d5bbcd",
   "metadata": {},
   "outputs": [
    {
     "data": {
      "text/plain": [
       "False"
      ]
     },
     "execution_count": 18,
     "metadata": {},
     "output_type": "execute_result"
    }
   ],
   "source": [
    "3>4"
   ]
  },
  {
   "cell_type": "code",
   "execution_count": 20,
   "id": "8fd7a830",
   "metadata": {},
   "outputs": [],
   "source": [
    "if 3 > 4 : print(\"yes\")"
   ]
  },
  {
   "cell_type": "code",
   "execution_count": 21,
   "id": "e13248d3",
   "metadata": {},
   "outputs": [
    {
     "name": "stdout",
     "output_type": "stream",
     "text": [
      "no\n"
     ]
    }
   ],
   "source": [
    "if 3 > 4 :\n",
    "    print(\"yes\")\n",
    "else:\n",
    "    print(\"no\")"
   ]
  },
  {
   "cell_type": "code",
   "execution_count": 22,
   "id": "df7ea600",
   "metadata": {},
   "outputs": [
    {
     "name": "stdout",
     "output_type": "stream",
     "text": [
      "no\n"
     ]
    }
   ],
   "source": [
    "if 3 > 4 :\n",
    "    print(\"yes\")\n",
    "elif 3==4:           #this is nested if\n",
    "    print(\"maybe\")\n",
    "else:\n",
    "    print(\"no\")"
   ]
  },
  {
   "cell_type": "code",
   "execution_count": 5,
   "id": "49e965cd",
   "metadata": {},
   "outputs": [
    {
     "name": "stdout",
     "output_type": "stream",
     "text": [
      "yes\n"
     ]
    }
   ],
   "source": [
    "if 3 < 4 and 5>3:\n",
    "    print('yes')"
   ]
  },
  {
   "cell_type": "code",
   "execution_count": 24,
   "id": "a8fc5ced",
   "metadata": {},
   "outputs": [
    {
     "name": "stdout",
     "output_type": "stream",
     "text": [
      "Python 3.9.12\n"
     ]
    }
   ],
   "source": [
    "! python --version"
   ]
  },
  {
   "cell_type": "code",
   "execution_count": 26,
   "id": "02525d45",
   "metadata": {},
   "outputs": [
    {
     "name": "stdout",
     "output_type": "stream",
     "text": [
      "ahmed\n",
      "123\n",
      "login success\n"
     ]
    }
   ],
   "source": [
    "username=\"ahmed\"\n",
    "password=123\n",
    "\n",
    "x=input()\n",
    "y=int(input())\n",
    "\n",
    "if x==username and y==password:\n",
    "    print(\"login success\")\n",
    "else:\n",
    "    print(\"wrong username or password\")"
   ]
  },
  {
   "cell_type": "code",
   "execution_count": 6,
   "id": "83b59aa3",
   "metadata": {},
   "outputs": [],
   "source": [
    "string = \"ahmed hafez\""
   ]
  },
  {
   "cell_type": "markdown",
   "id": "d8999893",
   "metadata": {},
   "source": [
    "to make it easy press tab after string to get the functions menu"
   ]
  },
  {
   "cell_type": "code",
   "execution_count": 28,
   "id": "cb414f3a",
   "metadata": {},
   "outputs": [
    {
     "data": {
      "text/plain": [
       "'Ahmed hafez'"
      ]
     },
     "execution_count": 28,
     "metadata": {},
     "output_type": "execute_result"
    }
   ],
   "source": [
    "string.capitalize()\n",
    "string."
   ]
  },
  {
   "cell_type": "code",
   "execution_count": 29,
   "id": "af5130e1",
   "metadata": {},
   "outputs": [
    {
     "data": {
      "text/plain": [
       "'ahmed hafez'"
      ]
     },
     "execution_count": 29,
     "metadata": {},
     "output_type": "execute_result"
    }
   ],
   "source": [
    "string.casefold()"
   ]
  },
  {
   "cell_type": "code",
   "execution_count": 30,
   "id": "95fe3beb",
   "metadata": {},
   "outputs": [
    {
     "data": {
      "text/plain": [
       "True"
      ]
     },
     "execution_count": 30,
     "metadata": {},
     "output_type": "execute_result"
    }
   ],
   "source": [
    "string.endswith(\"z\")"
   ]
  },
  {
   "cell_type": "code",
   "execution_count": 31,
   "id": "c153cb78",
   "metadata": {},
   "outputs": [
    {
     "data": {
      "text/plain": [
       "0"
      ]
     },
     "execution_count": 31,
     "metadata": {},
     "output_type": "execute_result"
    }
   ],
   "source": [
    "string.find(\"ahmed\")"
   ]
  },
  {
   "cell_type": "code",
   "execution_count": 32,
   "id": "dd5c0ee1",
   "metadata": {},
   "outputs": [
    {
     "data": {
      "text/plain": [
       "6"
      ]
     },
     "execution_count": 32,
     "metadata": {},
     "output_type": "execute_result"
    }
   ],
   "source": [
    "string.find(\"hafez\")"
   ]
  },
  {
   "cell_type": "code",
   "execution_count": 33,
   "id": "a1639463",
   "metadata": {},
   "outputs": [
    {
     "data": {
      "text/plain": [
       "'AHMED HAFEZ'"
      ]
     },
     "execution_count": 33,
     "metadata": {},
     "output_type": "execute_result"
    }
   ],
   "source": [
    "string.upper()"
   ]
  },
  {
   "cell_type": "code",
   "execution_count": 34,
   "id": "33b6115a",
   "metadata": {},
   "outputs": [
    {
     "data": {
      "text/plain": [
       "'med ha'"
      ]
     },
     "execution_count": 34,
     "metadata": {},
     "output_type": "execute_result"
    }
   ],
   "source": [
    "string[2:8]"
   ]
  },
  {
   "cell_type": "markdown",
   "id": "691702d0",
   "metadata": {},
   "source": [
    "<h1>4.loops</h1>"
   ]
  },
  {
   "cell_type": "code",
   "execution_count": 7,
   "id": "863008cb",
   "metadata": {
    "collapsed": true
   },
   "outputs": [
    {
     "name": "stdout",
     "output_type": "stream",
     "text": [
      "a\n",
      "h\n",
      "m\n",
      "e\n",
      "d\n",
      " \n",
      "h\n",
      "a\n",
      "f\n",
      "e\n",
      "z\n"
     ]
    }
   ],
   "source": [
    "for i in string:\n",
    "    print(i)"
   ]
  },
  {
   "cell_type": "code",
   "execution_count": 36,
   "id": "cf6a29a3",
   "metadata": {},
   "outputs": [
    {
     "name": "stdout",
     "output_type": "stream",
     "text": [
      "m\n",
      "e\n",
      "d\n"
     ]
    }
   ],
   "source": [
    "for i in string[2:5]:\n",
    "    print(i)"
   ]
  },
  {
   "cell_type": "code",
   "execution_count": 40,
   "id": "358b8590",
   "metadata": {},
   "outputs": [],
   "source": [
    "a=\"ahmed\"\n",
    "b=\" hafez\""
   ]
  },
  {
   "cell_type": "code",
   "execution_count": 41,
   "id": "108c7119",
   "metadata": {},
   "outputs": [],
   "source": [
    "c=a+b"
   ]
  },
  {
   "cell_type": "code",
   "execution_count": 42,
   "id": "40e16cc0",
   "metadata": {},
   "outputs": [
    {
     "data": {
      "text/plain": [
       "'ahmed hafez'"
      ]
     },
     "execution_count": 42,
     "metadata": {},
     "output_type": "execute_result"
    }
   ],
   "source": [
    "c"
   ]
  },
  {
   "cell_type": "code",
   "execution_count": 44,
   "id": "3f20f293",
   "metadata": {},
   "outputs": [
    {
     "data": {
      "text/plain": [
       "'ahmed ahmed ahmed ahmed '"
      ]
     },
     "execution_count": 44,
     "metadata": {},
     "output_type": "execute_result"
    }
   ],
   "source": [
    "\"ahmed \" * 4"
   ]
  },
  {
   "cell_type": "code",
   "execution_count": 46,
   "id": "0eaa3bd6",
   "metadata": {},
   "outputs": [
    {
     "name": "stdout",
     "output_type": "stream",
     "text": [
      "1\n",
      "2\n",
      "3\n",
      "4\n",
      "5\n"
     ]
    }
   ],
   "source": [
    "for i in range(1,6):\n",
    "    print(i)"
   ]
  },
  {
   "cell_type": "code",
   "execution_count": 8,
   "id": "349e7f48",
   "metadata": {},
   "outputs": [
    {
     "name": "stdout",
     "output_type": "stream",
     "text": [
      "1\n",
      "3\n",
      "5\n",
      "7\n",
      "9\n"
     ]
    }
   ],
   "source": [
    "for i in range(1,10, 2):\n",
    "    print(i)"
   ]
  },
  {
   "cell_type": "code",
   "execution_count": 48,
   "id": "8cc78b4a",
   "metadata": {},
   "outputs": [],
   "source": [
    "s=\"fatma ali ahmed\""
   ]
  },
  {
   "cell_type": "code",
   "execution_count": 51,
   "id": "cbb90824",
   "metadata": {},
   "outputs": [
    {
     "name": "stdout",
     "output_type": "stream",
     "text": [
      "10\n",
      "9\n",
      "8\n",
      "7\n",
      "6\n",
      "5\n",
      "4\n",
      "3\n",
      "2\n"
     ]
    }
   ],
   "source": [
    "for i in range (10,1,-1):\n",
    "    print(i)"
   ]
  },
  {
   "cell_type": "code",
   "execution_count": 52,
   "id": "809fdfb7",
   "metadata": {},
   "outputs": [],
   "source": [
    "a=\"ahmed\"\n",
    "for i in a :\n",
    "    if i==\"h\":\n",
    "        i=\"z\""
   ]
  },
  {
   "cell_type": "code",
   "execution_count": 53,
   "id": "bcb4f54f",
   "metadata": {},
   "outputs": [
    {
     "data": {
      "text/plain": [
       "'ahmed'"
      ]
     },
     "execution_count": 53,
     "metadata": {},
     "output_type": "execute_result"
    }
   ],
   "source": [
    "a"
   ]
  },
  {
   "cell_type": "code",
   "execution_count": 54,
   "id": "45f9b673",
   "metadata": {},
   "outputs": [
    {
     "name": "stdout",
     "output_type": "stream",
     "text": [
      "a\n",
      "h\n",
      "m\n",
      "e\n",
      "d\n"
     ]
    }
   ],
   "source": [
    "for i in a:\n",
    "    print(i)"
   ]
  },
  {
   "cell_type": "code",
   "execution_count": 56,
   "id": "e390fc8a",
   "metadata": {},
   "outputs": [
    {
     "data": {
      "text/plain": [
       "'ahmed'"
      ]
     },
     "execution_count": 56,
     "metadata": {},
     "output_type": "execute_result"
    }
   ],
   "source": [
    "a"
   ]
  },
  {
   "cell_type": "markdown",
   "id": "d766c7bd",
   "metadata": {},
   "source": [
    "<h1>5.functions</h1>\n"
   ]
  },
  {
   "cell_type": "code",
   "execution_count": 58,
   "id": "84c04b62",
   "metadata": {},
   "outputs": [],
   "source": [
    "def printfunction():\n",
    "    print(\"function\")"
   ]
  },
  {
   "cell_type": "code",
   "execution_count": 59,
   "id": "840c5165",
   "metadata": {},
   "outputs": [
    {
     "name": "stdout",
     "output_type": "stream",
     "text": [
      "function\n"
     ]
    }
   ],
   "source": [
    "printfunction()"
   ]
  },
  {
   "cell_type": "code",
   "execution_count": 60,
   "id": "1ca81336",
   "metadata": {},
   "outputs": [],
   "source": [
    "def return1():\n",
    "    return 1"
   ]
  },
  {
   "cell_type": "code",
   "execution_count": 61,
   "id": "3cef9aaa",
   "metadata": {},
   "outputs": [],
   "source": [
    "x=return1()"
   ]
  },
  {
   "cell_type": "code",
   "execution_count": 62,
   "id": "1608b9ba",
   "metadata": {},
   "outputs": [
    {
     "data": {
      "text/plain": [
       "1"
      ]
     },
     "execution_count": 62,
     "metadata": {},
     "output_type": "execute_result"
    }
   ],
   "source": [
    "x"
   ]
  },
  {
   "cell_type": "code",
   "execution_count": 65,
   "id": "f06e9fba",
   "metadata": {},
   "outputs": [],
   "source": [
    "def printcircle():\n",
    "    r=int(input())\n",
    "    print(3.14*r*r)"
   ]
  },
  {
   "cell_type": "code",
   "execution_count": 66,
   "id": "c44e1260",
   "metadata": {},
   "outputs": [
    {
     "name": "stdout",
     "output_type": "stream",
     "text": [
      "4\n",
      "50.24\n"
     ]
    }
   ],
   "source": [
    "printcircle()"
   ]
  },
  {
   "cell_type": "code",
   "execution_count": 9,
   "id": "3e04c071",
   "metadata": {},
   "outputs": [],
   "source": [
    "x=4"
   ]
  },
  {
   "cell_type": "code",
   "execution_count": 13,
   "id": "9a23a20e",
   "metadata": {},
   "outputs": [],
   "source": [
    "def changex():\n",
    "    x=3\n",
    "    return x"
   ]
  },
  {
   "cell_type": "code",
   "execution_count": 14,
   "id": "e457a834",
   "metadata": {},
   "outputs": [],
   "source": [
    "newX = changex()"
   ]
  },
  {
   "cell_type": "code",
   "execution_count": 15,
   "id": "4a8cb77d",
   "metadata": {},
   "outputs": [
    {
     "data": {
      "text/plain": [
       "4"
      ]
     },
     "execution_count": 15,
     "metadata": {},
     "output_type": "execute_result"
    }
   ],
   "source": [
    "x"
   ]
  },
  {
   "cell_type": "code",
   "execution_count": 16,
   "id": "8f45f39f",
   "metadata": {},
   "outputs": [
    {
     "data": {
      "text/plain": [
       "3"
      ]
     },
     "execution_count": 16,
     "metadata": {},
     "output_type": "execute_result"
    }
   ],
   "source": [
    "newX"
   ]
  },
  {
   "cell_type": "code",
   "execution_count": 19,
   "id": "d2177176",
   "metadata": {},
   "outputs": [],
   "source": [
    "def printTo10(x):\n",
    "    if x==11:\n",
    "        return\n",
    "    print(x)\n",
    "    printTo10(x+1)"
   ]
  },
  {
   "cell_type": "code",
   "execution_count": 21,
   "id": "e383ae16",
   "metadata": {},
   "outputs": [
    {
     "name": "stdout",
     "output_type": "stream",
     "text": [
      "4\n",
      "5\n",
      "6\n",
      "7\n",
      "8\n",
      "9\n",
      "10\n"
     ]
    }
   ],
   "source": [
    "printTo10(4)"
   ]
  },
  {
   "cell_type": "markdown",
   "id": "fe32f873",
   "metadata": {},
   "source": [
    "<h1>Tasks</h1>"
   ]
  },
  {
   "cell_type": "markdown",
   "id": "8e649531",
   "metadata": {},
   "source": [
    "1. Task 1 : python library or extension that hide the password while typing it\n",
    "2. Task 2 : jupyter equavilent by c++\n",
    "3. Task 3 : code that do the same performance of DO While in python\n",
    "4. Task 4 : a python code that pass by 2 one time and pass by times 2 another time\n",
    "5. Task 5 : how to make infifnite for loop in python without using extra memory\n",
    "6. Task 6 : what is dependency injection\n",
    "7. Task 7 : what are the clean code rules or principles\n",
    "8. Task 8 : why recursive is faster than itterative\n",
    "9. Task 9 : Threads research"
   ]
  },
  {
   "cell_type": "markdown",
   "id": "3b4fccf9",
   "metadata": {},
   "source": [
    "<h1>extensions</h1>"
   ]
  },
  {
   "cell_type": "markdown",
   "id": "eb135b6a",
   "metadata": {},
   "source": [
    "1. open this link : https://jupyter-contrib-nbextensions.readthedocs.io/en/latest/install.html\n",
    "2. pip install jupyter_contrib_nbextensions\n",
    "3. jupyter contrib nbextension install --user"
   ]
  },
  {
   "cell_type": "markdown",
   "id": "888bf627",
   "metadata": {},
   "source": [
    "<h1>for practising</h1>"
   ]
  },
  {
   "cell_type": "markdown",
   "id": "25d3c4c5",
   "metadata": {},
   "source": [
    "follow this link : https://www.w3resource.com/python-exercises/"
   ]
  },
  {
   "cell_type": "code",
   "execution_count": null,
   "id": "a0c4e0b2",
   "metadata": {},
   "outputs": [],
   "source": []
  }
 ],
 "metadata": {
  "kernelspec": {
   "display_name": "Python 3 (ipykernel)",
   "language": "python",
   "name": "python3"
  },
  "language_info": {
   "codemirror_mode": {
    "name": "ipython",
    "version": 3
   },
   "file_extension": ".py",
   "mimetype": "text/x-python",
   "name": "python",
   "nbconvert_exporter": "python",
   "pygments_lexer": "ipython3",
   "version": "3.9.12"
  }
 },
 "nbformat": 4,
 "nbformat_minor": 5
}
