{
 "cells": [
  {
   "cell_type": "markdown",
   "id": "2f0ab17e",
   "metadata": {},
   "source": [
    "<h1>This is session 3 with date 01/09/2022</h1>"
   ]
  },
  {
   "cell_type": "markdown",
   "id": "af98144b",
   "metadata": {},
   "source": [
    "<h1>7. Containers</h1>"
   ]
  },
  {
   "cell_type": "code",
   "execution_count": 71,
   "id": "da594d3c",
   "metadata": {
    "scrolled": true
   },
   "outputs": [],
   "source": [
    "l = list()"
   ]
  },
  {
   "cell_type": "code",
   "execution_count": 72,
   "id": "3e8aff36",
   "metadata": {},
   "outputs": [],
   "source": [
    "l = [1,\"ali\",2,3,3.4,True]"
   ]
  },
  {
   "cell_type": "code",
   "execution_count": 73,
   "id": "57f8947e",
   "metadata": {},
   "outputs": [
    {
     "data": {
      "text/plain": [
       "6"
      ]
     },
     "execution_count": 73,
     "metadata": {},
     "output_type": "execute_result"
    }
   ],
   "source": [
    "len(l)"
   ]
  },
  {
   "cell_type": "code",
   "execution_count": 74,
   "id": "7b4f35a2",
   "metadata": {},
   "outputs": [
    {
     "name": "stdout",
     "output_type": "stream",
     "text": [
      "<class 'list'>\n",
      "<class 'list'>\n",
      "<class 'list'>\n",
      "<class 'list'>\n",
      "<class 'list'>\n",
      "<class 'list'>\n"
     ]
    }
   ],
   "source": [
    "for i in l:\n",
    "    print(type(l))"
   ]
  },
  {
   "cell_type": "code",
   "execution_count": 75,
   "id": "7cf7b716",
   "metadata": {},
   "outputs": [],
   "source": [
    "a = [\"ahmed\",\"ziad\",\"omar\",\"aly\",\"omar\",\"wael\"]\n",
    "a.sort()"
   ]
  },
  {
   "cell_type": "code",
   "execution_count": 76,
   "id": "035fdec4",
   "metadata": {},
   "outputs": [
    {
     "data": {
      "text/plain": [
       "['ahmed', 'aly', 'omar', 'omar', 'wael', 'ziad']"
      ]
     },
     "execution_count": 76,
     "metadata": {},
     "output_type": "execute_result"
    }
   ],
   "source": [
    "a"
   ]
  },
  {
   "cell_type": "code",
   "execution_count": 77,
   "id": "986c2d7e",
   "metadata": {},
   "outputs": [
    {
     "data": {
      "text/plain": [
       "2"
      ]
     },
     "execution_count": 77,
     "metadata": {},
     "output_type": "execute_result"
    }
   ],
   "source": [
    "a.count(\"omar\")"
   ]
  },
  {
   "cell_type": "code",
   "execution_count": 78,
   "id": "e82bb280",
   "metadata": {},
   "outputs": [],
   "source": [
    "a.remove(\"omar\")"
   ]
  },
  {
   "cell_type": "code",
   "execution_count": 79,
   "id": "c561b739",
   "metadata": {},
   "outputs": [
    {
     "data": {
      "text/plain": [
       "['ahmed', 'aly', 'omar', 'wael', 'ziad']"
      ]
     },
     "execution_count": 79,
     "metadata": {},
     "output_type": "execute_result"
    }
   ],
   "source": [
    "a"
   ]
  },
  {
   "cell_type": "code",
   "execution_count": 80,
   "id": "6b9b5da5",
   "metadata": {},
   "outputs": [
    {
     "data": {
      "text/plain": [
       "'ziad'"
      ]
     },
     "execution_count": 80,
     "metadata": {},
     "output_type": "execute_result"
    }
   ],
   "source": [
    "a.pop()"
   ]
  },
  {
   "cell_type": "code",
   "execution_count": 81,
   "id": "43a20658",
   "metadata": {},
   "outputs": [],
   "source": [
    "a.append(\"ahmed\")"
   ]
  },
  {
   "cell_type": "code",
   "execution_count": 82,
   "id": "b03a6a72",
   "metadata": {},
   "outputs": [
    {
     "data": {
      "text/plain": [
       "['ahmed', 'aly', 'omar', 'wael', 'ahmed']"
      ]
     },
     "execution_count": 82,
     "metadata": {},
     "output_type": "execute_result"
    }
   ],
   "source": [
    "a"
   ]
  },
  {
   "cell_type": "code",
   "execution_count": 83,
   "id": "8c90c3b1",
   "metadata": {},
   "outputs": [
    {
     "data": {
      "text/plain": [
       "2"
      ]
     },
     "execution_count": 83,
     "metadata": {},
     "output_type": "execute_result"
    }
   ],
   "source": [
    "a.count(\"ahmed\")"
   ]
  },
  {
   "cell_type": "code",
   "execution_count": 84,
   "id": "3b72ef2b",
   "metadata": {},
   "outputs": [],
   "source": [
    "for i in range(a.count(\"ahmed\")):\n",
    "    a.remove(\"ahmed\")"
   ]
  },
  {
   "cell_type": "code",
   "execution_count": 85,
   "id": "4eac5e48",
   "metadata": {},
   "outputs": [
    {
     "data": {
      "text/plain": [
       "['aly', 'omar', 'wael']"
      ]
     },
     "execution_count": 85,
     "metadata": {},
     "output_type": "execute_result"
    }
   ],
   "source": [
    "a"
   ]
  },
  {
   "cell_type": "code",
   "execution_count": 86,
   "id": "0cb20b57",
   "metadata": {},
   "outputs": [],
   "source": [
    "a.reverse()"
   ]
  },
  {
   "cell_type": "code",
   "execution_count": 87,
   "id": "d1085ddb",
   "metadata": {},
   "outputs": [
    {
     "data": {
      "text/plain": [
       "['wael', 'omar', 'aly']"
      ]
     },
     "execution_count": 87,
     "metadata": {},
     "output_type": "execute_result"
    }
   ],
   "source": [
    "a"
   ]
  },
  {
   "cell_type": "code",
   "execution_count": 88,
   "id": "a7ca4b38",
   "metadata": {},
   "outputs": [],
   "source": [
    "l = [1,2,3,4,55,6]"
   ]
  },
  {
   "cell_type": "code",
   "execution_count": 89,
   "id": "ed39275b",
   "metadata": {},
   "outputs": [],
   "source": [
    "l=[[1,2,3],[4,5,6],[7,8,9]]"
   ]
  },
  {
   "cell_type": "code",
   "execution_count": 90,
   "id": "38498c5d",
   "metadata": {},
   "outputs": [
    {
     "data": {
      "text/plain": [
       "3"
      ]
     },
     "execution_count": 90,
     "metadata": {},
     "output_type": "execute_result"
    }
   ],
   "source": [
    "len(l)"
   ]
  },
  {
   "cell_type": "code",
   "execution_count": 91,
   "id": "bb988040",
   "metadata": {},
   "outputs": [],
   "source": [
    "t = tuple()"
   ]
  },
  {
   "cell_type": "code",
   "execution_count": 92,
   "id": "91a7e7ac",
   "metadata": {},
   "outputs": [],
   "source": [
    "t = (1,2,3,4,5)"
   ]
  },
  {
   "cell_type": "code",
   "execution_count": 93,
   "id": "de1b8257",
   "metadata": {},
   "outputs": [
    {
     "data": {
      "text/plain": [
       "tuple"
      ]
     },
     "execution_count": 93,
     "metadata": {},
     "output_type": "execute_result"
    }
   ],
   "source": [
    "type(t)"
   ]
  },
  {
   "cell_type": "code",
   "execution_count": 94,
   "id": "8a5d7720",
   "metadata": {},
   "outputs": [
    {
     "data": {
      "text/plain": [
       "1"
      ]
     },
     "execution_count": 94,
     "metadata": {},
     "output_type": "execute_result"
    }
   ],
   "source": [
    "t[0]"
   ]
  },
  {
   "cell_type": "code",
   "execution_count": 95,
   "id": "dfd33f1e",
   "metadata": {},
   "outputs": [
    {
     "data": {
      "text/plain": [
       "(1, 2, 3, 4, 5)"
      ]
     },
     "execution_count": 95,
     "metadata": {},
     "output_type": "execute_result"
    }
   ],
   "source": [
    "t"
   ]
  },
  {
   "cell_type": "code",
   "execution_count": 96,
   "id": "40af73e4",
   "metadata": {},
   "outputs": [],
   "source": [
    "t=(1,)"
   ]
  },
  {
   "cell_type": "code",
   "execution_count": 97,
   "id": "1f61cefc",
   "metadata": {},
   "outputs": [
    {
     "data": {
      "text/plain": [
       "tuple"
      ]
     },
     "execution_count": 97,
     "metadata": {},
     "output_type": "execute_result"
    }
   ],
   "source": [
    "type(t)"
   ]
  },
  {
   "cell_type": "code",
   "execution_count": 98,
   "id": "1ee7d528",
   "metadata": {},
   "outputs": [],
   "source": [
    "s = set()"
   ]
  },
  {
   "cell_type": "code",
   "execution_count": 99,
   "id": "fdd54daa",
   "metadata": {},
   "outputs": [],
   "source": [
    "s = {1,2,3,4,5,6,1,2,3}"
   ]
  },
  {
   "cell_type": "code",
   "execution_count": 100,
   "id": "a335a785",
   "metadata": {},
   "outputs": [
    {
     "data": {
      "text/plain": [
       "{1, 2, 3, 4, 5, 6}"
      ]
     },
     "execution_count": 100,
     "metadata": {},
     "output_type": "execute_result"
    }
   ],
   "source": [
    "s"
   ]
  },
  {
   "cell_type": "code",
   "execution_count": 101,
   "id": "77366db0",
   "metadata": {},
   "outputs": [],
   "source": [
    "s.add(2.5)"
   ]
  },
  {
   "cell_type": "code",
   "execution_count": 102,
   "id": "37cb0a39",
   "metadata": {},
   "outputs": [
    {
     "data": {
      "text/plain": [
       "{1, 2, 2.5, 3, 4, 5, 6}"
      ]
     },
     "execution_count": 102,
     "metadata": {},
     "output_type": "execute_result"
    }
   ],
   "source": [
    "s"
   ]
  },
  {
   "cell_type": "code",
   "execution_count": 103,
   "id": "5f872243",
   "metadata": {},
   "outputs": [
    {
     "data": {
      "text/plain": [
       "1"
      ]
     },
     "execution_count": 103,
     "metadata": {},
     "output_type": "execute_result"
    }
   ],
   "source": [
    "s.pop()"
   ]
  },
  {
   "cell_type": "code",
   "execution_count": 104,
   "id": "420acd14",
   "metadata": {},
   "outputs": [
    {
     "data": {
      "text/plain": [
       "{2, 2.5, 3, 4, 5, 6}"
      ]
     },
     "execution_count": 104,
     "metadata": {},
     "output_type": "execute_result"
    }
   ],
   "source": [
    "s"
   ]
  },
  {
   "cell_type": "code",
   "execution_count": 105,
   "id": "63bd722c",
   "metadata": {},
   "outputs": [
    {
     "data": {
      "text/plain": [
       "2"
      ]
     },
     "execution_count": 105,
     "metadata": {},
     "output_type": "execute_result"
    }
   ],
   "source": [
    "s.pop()"
   ]
  },
  {
   "cell_type": "code",
   "execution_count": 106,
   "id": "3519f294",
   "metadata": {},
   "outputs": [
    {
     "data": {
      "text/plain": [
       "{2.5, 3, 4, 5, 6}"
      ]
     },
     "execution_count": 106,
     "metadata": {},
     "output_type": "execute_result"
    }
   ],
   "source": [
    "s"
   ]
  },
  {
   "cell_type": "code",
   "execution_count": 107,
   "id": "e27bc1f7",
   "metadata": {},
   "outputs": [],
   "source": [
    "d = {\"name\":\"ahmed\",\"salary\":5000,\"age\":26}"
   ]
  },
  {
   "cell_type": "code",
   "execution_count": 108,
   "id": "2020ec79",
   "metadata": {},
   "outputs": [
    {
     "data": {
      "text/plain": [
       "3"
      ]
     },
     "execution_count": 108,
     "metadata": {},
     "output_type": "execute_result"
    }
   ],
   "source": [
    "len(d)"
   ]
  },
  {
   "cell_type": "code",
   "execution_count": 109,
   "id": "bb65d265",
   "metadata": {},
   "outputs": [
    {
     "data": {
      "text/plain": [
       "dict_keys(['name', 'salary', 'age'])"
      ]
     },
     "execution_count": 109,
     "metadata": {},
     "output_type": "execute_result"
    }
   ],
   "source": [
    "d.keys()"
   ]
  },
  {
   "cell_type": "code",
   "execution_count": 110,
   "id": "abf7f382",
   "metadata": {},
   "outputs": [
    {
     "data": {
      "text/plain": [
       "dict_values(['ahmed', 5000, 26])"
      ]
     },
     "execution_count": 110,
     "metadata": {},
     "output_type": "execute_result"
    }
   ],
   "source": [
    "d.values()"
   ]
  },
  {
   "cell_type": "code",
   "execution_count": 111,
   "id": "45ee714d",
   "metadata": {},
   "outputs": [
    {
     "name": "stdout",
     "output_type": "stream",
     "text": [
      "name\n",
      "salary\n",
      "age\n"
     ]
    }
   ],
   "source": [
    "for i in d:\n",
    "    print(i)"
   ]
  },
  {
   "cell_type": "code",
   "execution_count": 112,
   "id": "f15ebe99",
   "metadata": {},
   "outputs": [
    {
     "name": "stdout",
     "output_type": "stream",
     "text": [
      "name ahmed\n",
      "salary 5000\n",
      "age 26\n"
     ]
    }
   ],
   "source": [
    "for i in d:\n",
    "    print(i,d[i])"
   ]
  },
  {
   "cell_type": "code",
   "execution_count": 113,
   "id": "c8bcfceb",
   "metadata": {},
   "outputs": [],
   "source": [
    "d[\"favclubs\"]=[\"ahly\",\"real madrid\"]"
   ]
  },
  {
   "cell_type": "code",
   "execution_count": 114,
   "id": "e47bebc5",
   "metadata": {},
   "outputs": [
    {
     "data": {
      "text/plain": [
       "{'name': 'ahmed',\n",
       " 'salary': 5000,\n",
       " 'age': 26,\n",
       " 'favclubs': ['ahly', 'real madrid']}"
      ]
     },
     "execution_count": 114,
     "metadata": {},
     "output_type": "execute_result"
    }
   ],
   "source": [
    "d"
   ]
  },
  {
   "cell_type": "markdown",
   "id": "e47f5b4f",
   "metadata": {},
   "source": [
    "<h1>9. exception handling</h1>"
   ]
  },
  {
   "cell_type": "code",
   "execution_count": 115,
   "id": "432aafb5",
   "metadata": {},
   "outputs": [
    {
     "name": "stdout",
     "output_type": "stream",
     "text": [
      "sorry doesn't exist\n"
     ]
    }
   ],
   "source": [
    "try : \n",
    "    print(ahmed)\n",
    "except:\n",
    "    print(\"sorry doesn't exist\")"
   ]
  },
  {
   "cell_type": "code",
   "execution_count": null,
   "id": "b8b65de4",
   "metadata": {
    "scrolled": true
   },
   "outputs": [],
   "source": [
    "with open (\"orange.txt\",\"r\") as file :\n",
    "    x = file"
   ]
  },
  {
   "cell_type": "markdown",
   "id": "737db57e",
   "metadata": {},
   "source": [
    "<h1>Tasks</h1>"
   ]
  },
  {
   "cell_type": "markdown",
   "id": "a18134e5",
   "metadata": {},
   "source": [
    "1. What is miniconda and what is the difference between it and Anaconda\n",
    "2. Not clean code and someone who optimzed it into a clean code\n",
    "3. What is framework? why we use it? advantages and disadvantages.\n",
    "4. Most popular 5 processors in laptops and 5 in mobiles? and why?\n",
    "5. How to make recursive code faster than iterative which don't support multi-threading?\n",
    "6. what is hashtables ? why we use hash tables in unordered list\n",
    "7. how to print the error type for the user in try catch"
   ]
  }
 ],
 "metadata": {
  "kernelspec": {
   "display_name": "Python 3 (ipykernel)",
   "language": "python",
   "name": "python3"
  },
  "language_info": {
   "codemirror_mode": {
    "name": "ipython",
    "version": 3
   },
   "file_extension": ".py",
   "mimetype": "text/x-python",
   "name": "python",
   "nbconvert_exporter": "python",
   "pygments_lexer": "ipython3",
   "version": "3.9.12"
  }
 },
 "nbformat": 4,
 "nbformat_minor": 5
}
