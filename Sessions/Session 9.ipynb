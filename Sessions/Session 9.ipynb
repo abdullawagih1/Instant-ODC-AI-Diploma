{
 "cells": [
  {
   "cell_type": "markdown",
   "id": "31d99c96",
   "metadata": {},
   "source": [
    "# Session 11 by date 20-09-2022 WebScraping"
   ]
  },
  {
   "cell_type": "markdown",
   "id": "d1c41bc3",
   "metadata": {},
   "source": [
    "## 1. AI\n",
    "\n",
    "80 % data\n",
    "* 90% data cleaning\n",
    "* 10% data analysis\n",
    "\n",
    "20% Modeling\n",
    "\n",
    "## AI Pipeline:\n",
    "1. Verify\n",
    "2. Data Gathering ( data collection , data accquiring )\n",
    "3. Data Preprocessing ( organization )\n",
    "4. Feature Engineering\n",
    "   solve task------------------------\n",
    "5. Model selection ( choose best algorithm )\n",
    "6. Fit data into model\n",
    "7. Train\n",
    "8. Test\n",
    "9. Documentation\n",
    "10. Integrate\n",
    "11. Release\n",
    "12. Monitor\n",
    "13. Maintain"
   ]
  },
  {
   "cell_type": "markdown",
   "id": "55ba8c81",
   "metadata": {},
   "source": [
    "## Data collection methods:\n",
    "1. Avaliable ( Direct )\n",
    "2. Avaliable ( free ) --> Download\n",
    "3. Avaliable ( not for free ) --> buy\n",
    "4. Not Avaliable ( request )\n",
    "5. Not Avaliable but exists ( Scrapping )\n",
    "6. Not Avaliable ( create )"
   ]
  },
  {
   "cell_type": "markdown",
   "id": "fd6ed041",
   "metadata": {},
   "source": [
    "## How to create data :\n",
    "1. surveys\n",
    "2. Data Entery"
   ]
  },
  {
   "cell_type": "markdown",
   "id": "c97f61ca",
   "metadata": {},
   "source": [
    "## Websites :\n",
    "1. Google data stes\n",
    "2. Kaggle\n",
    "3. Data.world\n",
    "4. Hugging face\n",
    "5. Academic Torrents"
   ]
  },
  {
   "cell_type": "markdown",
   "id": "e54b4ca5",
   "metadata": {},
   "source": [
    "## Web Scrapping :  (https://pypi.org/)\n",
    "1. Beautifulsoup\n",
    "2. Requests\n",
    "3. Selenium\n",
    "4. cronjobs"
   ]
  },
  {
   "cell_type": "markdown",
   "id": "27dd3b83",
   "metadata": {},
   "source": [
    "## Installation:\n",
    "1. pip\n",
    "2. conda"
   ]
  },
  {
   "cell_type": "markdown",
   "id": "624c49f5",
   "metadata": {},
   "source": [
    "## Web Track\n",
    "\n",
    "* frontend : design (html : hyper text markup language)\n",
    "* backend : database , server and operations\n",
    "\n",
    "update : we can now write python directly into html\n",
    "\n",
    "\"<\"py-script>python code\"</\"py-script>"
   ]
  },
  {
   "cell_type": "code",
   "execution_count": null,
   "id": "80225138",
   "metadata": {},
   "outputs": [],
   "source": [
    "import requests\n",
    "from bs4 import BeautifulSoup\n",
    "import csv"
   ]
  },
  {
   "cell_type": "markdown",
   "id": "4081918d",
   "metadata": {},
   "source": [
    "## Tasks:\n",
    "1. What are source controls except git hub?\n",
    "2. The role of Maven\n",
    "3. DataOps cycle search \n",
    "4. extension that show the tracking websites and how to block them (Extra)"
   ]
  }
 ],
 "metadata": {
  "kernelspec": {
   "display_name": "Python 3 (ipykernel)",
   "language": "python",
   "name": "python3"
  },
  "language_info": {
   "codemirror_mode": {
    "name": "ipython",
    "version": 3
   },
   "file_extension": ".py",
   "mimetype": "text/x-python",
   "name": "python",
   "nbconvert_exporter": "python",
   "pygments_lexer": "ipython3",
   "version": "3.9.12"
  }
 },
 "nbformat": 4,
 "nbformat_minor": 5
}
