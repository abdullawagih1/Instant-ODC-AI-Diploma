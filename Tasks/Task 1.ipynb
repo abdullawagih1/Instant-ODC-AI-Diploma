{
 "cells": [
  {
   "attachments": {
    "00-%20instant.PNG": {
     "image/png": "[encoded data removed]"
    }
   },
   "cell_type": "markdown",
   "id": "1f2a920f",
   "metadata": {},
   "source": [
    "![00-%20instant.PNG](attachment:00-%20instant.PNG)"
   ]
  },
  {
   "cell_type": "markdown",
   "id": "00c51e1b",
   "metadata": {},
   "source": [
    "                                                    day1 (28/8/2022)"
   ]
  },
  {
   "cell_type": "markdown",
   "id": "0f974a66",
   "metadata": {},
   "source": [
    "# Task 1"
   ]
  },
  {
   "cell_type": "markdown",
   "id": "9059dcc9",
   "metadata": {},
   "source": [
    "#### What is OOD? why we use it? who use it?\n",
    "--------------------------------------------------"
   ]
  },
  {
   "cell_type": "markdown",
   "id": "6cf365c6",
   "metadata": {},
   "source": [
    "What is OOD?\n",
    " - Starting with business requirements and software specification, then go to software modeling which start with Opject Orianted Analysis 'OOA' and in this case SWE analyze all requirements, then make a design for the relationships in the model.\n",
    "\n",
    "Who is responsible for software design?\n",
    " - Software Architect.\n",
    "\n",
    "Why we need it?\n",
    " - For getting enough insights for the SW model.\n",
    " \n",
    "\n"
   ]
  },
  {
   "cell_type": "markdown",
   "id": "c7c07294",
   "metadata": {},
   "source": [
    "----------------------------------------------------------\n",
    "----------------------------------------------------------"
   ]
  },
  {
   "cell_type": "markdown",
   "id": "3f599115",
   "metadata": {},
   "source": [
    "# Task 2"
   ]
  },
  {
   "cell_type": "markdown",
   "id": "af564a53",
   "metadata": {},
   "source": [
    "#### What is the operating system core language?\n",
    "---------------------------------------------------"
   ]
  },
  {
   "cell_type": "markdown",
   "id": "029cce84",
   "metadata": {},
   "source": [
    "Operating systems consists of two levels (UI - Kernal):\n",
    "  - UI is written mostly in C/C++, and it can be written in Java which provides Java API.\n",
    "  - Kernal (core) is written mostly in Assembly as it more closed to machine instructions and can able to interact easily with the hardware in less time.\n",
    "    * Some times Kernals of OSs can be another OSs like Linux\n",
    "\n",
    "For example:\n",
    "\n",
    " - Unix operating system was totally written in C by Ken Thompson and Dennis retchie.\n",
    " - Windows Os was written mostly in c++, Assembly.\n",
    " - Upper interface of ANDROID Os is totally written in Java,which provides a Java API for interacting with the kernel, \n",
    "    the kernel used for Android is Linux kernel,linux kernel is also totally written C with version of GCC."
   ]
  },
  {
   "cell_type": "markdown",
   "id": "d3b5761f",
   "metadata": {},
   "source": [
    "-------------------------------------------\n",
    "------------------------------------------"
   ]
  },
  {
   "cell_type": "markdown",
   "id": "262c9119",
   "metadata": {},
   "source": [
    "# Task 3"
   ]
  },
  {
   "cell_type": "markdown",
   "id": "08e32240",
   "metadata": {},
   "source": [
    "#### What are the first 10 programming languages appeared?\n",
    "--------------------------------------------------------"
   ]
  },
  {
   "cell_type": "markdown",
   "id": "5bda5d65",
   "metadata": {},
   "source": [
    "- 1951 – Assembly\n",
    "- 1952 – Autocode\n",
    "- 1954 – IPL (forerunner to LISP)\n",
    "- 1955 – FLOW-MATIC (led to COBOL)\n",
    "- 1957 – FORTRAN (first compiler)\n",
    "- 1957 – COMTRAN (precursor to COBOL)\n",
    "- 1958 – LISP\n",
    "- 1958 – ALGOL 58\n",
    "- 1959 – FACT (forerunner to COBOL)\n",
    "- 1959 – COBOL"
   ]
  },
  {
   "cell_type": "markdown",
   "id": "2a221f8e",
   "metadata": {},
   "source": [
    "----------------------------------------------\n",
    "----------------------------------------------"
   ]
  },
  {
   "cell_type": "markdown",
   "id": "95a169c4",
   "metadata": {},
   "source": [
    "# Task 4"
   ]
  },
  {
   "cell_type": "markdown",
   "id": "4f3a1c4a",
   "metadata": {},
   "source": [
    "#### What is the type of languages that we could use in giving instructions?\n",
    "-----------------------------------------------------------"
   ]
  },
  {
   "cell_type": "markdown",
   "id": "9cdd4177",
   "metadata": {},
   "source": [
    "- Machine code is directly linked to hardware (and is non-portable), and it’s a “language” (in a technical sense), and the only languages directly linked to hardware.\n",
    "\n",
    "\n",
    "- Assembly language has those same downsides; isn’t strictly linked to hardware, i.e. doesn’t run on, unless after trivial translation (that you do with an assembler). Note, machine code and assembly have one-to-one correspondence, but there are not one of each, there are different pairs of these languages depending on which hardware they target\n",
    "\n",
    "\n",
    "- Languages like C (or Zig) are NOT directly linked to hardware. C is a high-level language, removed from hardware, but it’s also often described as low-level, since it can be rather predictable what the generated machine code will be.\n",
    "\n",
    "\n",
    "- Note also, some languages, C, C++ and D, allow embedding assemly. When using those optional features, then that part, and the whole indirectly, IS directly linked to hardware.\n",
    "\n",
    "\n",
    "- Executables of all compiled languages, such as C, C++, D and Fortran, even though those languages (source code written in, assuming no asm), are directly linked to hardware (or at least tied to a VM such as Java’s JVM).\n",
    "\n",
    "\n",
    "- Some compiled language are NOT directly linked to hardware, e.g. Julia (it’s compiled, but by default not separate compilation step), even though it generated machine code, it’s the runtime (not separate compiler) that does it for you.\n",
    "\n",
    "\n",
    "- Java, and other JVM languages, compile to Java bytecode. So you’re not tied to hardware, rather a “virtual machine”, a substitute for hardware. C# is similar and also languages that compile to WebAssembly."
   ]
  },
  {
   "cell_type": "markdown",
   "id": "3155881c",
   "metadata": {},
   "source": [
    "---------------------------------------\n",
    "---------------------------------------"
   ]
  },
  {
   "cell_type": "markdown",
   "id": "8654c3cd",
   "metadata": {},
   "source": [
    "# Task 5"
   ]
  },
  {
   "cell_type": "markdown",
   "id": "772933f2",
   "metadata": {},
   "source": [
    "#### What are JavaScript advantages?\n",
    "-----------------------------------------------"
   ]
  },
  {
   "cell_type": "markdown",
   "id": "ff9e8fed",
   "metadata": {},
   "source": [
    "- Advantages of JavaScript\n",
    "\n",
    "1. Speed\n",
    "   - Since JavaScript is an ‘interpreted’ language, it reduces the time required by other programming languages like Java for compilation. JavaScript is also a client-side script, speeding up the execution of the program as it saves the time required to connect to the server.\n",
    "\n",
    "\n",
    "2. Simplicity\n",
    "   - JavaScript is easy to understand and learn. The structure is simple for the users as well as the developers. It is also very feasible to implement, saving developers a lot of money for developing dynamic content for the web.\n",
    "\n",
    "\n",
    "3. Popularity\n",
    "   - Since all modern browsers support JavaScript, it is seen almost everywhere. All the famous companies use JavaScript as a tool including Google, Amazon, PayPal, etc.\n",
    "\n",
    "\n",
    "4. Interoperability التوافقية\n",
    "   - JavaScript works perfect with other programming languages and therefore numerous developers prefer it in developing many applications. We can embed it into any webpage or inside the script of another programming language.\n",
    "\n",
    "\n",
    "5. Server Load تحميل الخادم \n",
    "   - As JavaScript operates on the client-side, data validation is possible on the browser itself rather than sending it off to the server. In case of any discrepancy, the whole website needs not to be reloaded. The browser updates only the selected segment of the page.\n",
    "\n",
    "\n",
    "6. Rich Interfaces\n",
    "   - JavaScript provides various interfaces to developers for creating catchy webpages. Drag and drop components or sliders may give a rich interface to the webpages. This leads to improved user-interactivity on the webpage.\n",
    "\n",
    "\n",
    "7. Extended موسعة Functionality \n",
    "   - Third-party add-ons like Greasemonkey (a Mozilla Firefox extension) allow the developers to add snippets of predefined code in their code to save time and money. These add-ons help the developers build JavaScript applications a lot faster and with much more ease than other programming languages.\n",
    "\n",
    "\n",
    "8. Versatility براعة\n",
    "   - JavaScript is now capable of front-end as well as back-end development. Back-end development uses NodeJS while many libraries help in front-end development like AngularJS, ReactJS, etc.\n",
    "\n",
    "\n",
    "9. Less Overhead\n",
    "   - JavaScript improves the performance of websites and web applications by reducing the code length. The codes contain less overhead with the use of various built-in functions for loops, DOM access, etc.\n",
    "\n",
    "=======================================================================================\n",
    "- Disadvantages of JavaScript\n",
    "\n",
    "1. Client-side Security\n",
    "   - Since the JavaScript code is viewable to the user, others may use it for malicious purposes. These practices may include using the source code without authentication. Also, it is very easy to place some code into the site that compromises the security of data over the website.\n",
    "\n",
    "\n",
    "2. Browser Support\n",
    "   - The browser interprets JavaScript differently in different browsers. Thus, the code must be run on various platforms before publishing. The older browsers don’t support some new functions and we need to check them as well.\n",
    "\n",
    "\n",
    "3. Lack of Debugging Facility\n",
    "   - Though some HTML editors support debugging, it is not as efficient as other editors like C/C++ editors. Also, as the browser doesn’t show any error, it is difficult for the developer to detect the problem.\n",
    "\n",
    "\n",
    "4. Single Inheritance\n",
    "   - JavaScript only supports single inheritance and not multiple inheritance. Some programs may require this object-oriented language characteristic.\n",
    "\n",
    "\n",
    "5. Sluggish Bitwise Function\n",
    "   - JavaScript stores a number as a 64-bit floating-point number and operators operate on 32-bit bitwise operands. Thus, JavaScript converts the number to 32-bits signed integers, operates on them and converts them back to 64-bits JavaScript numbers. This continuous conversion takes more time in conversion of number to an integer. This increases the time needed to run the script and reduces its speed.\n",
    "\n",
    "\n",
    "6. Rendering Stopped\n",
    "   - A single code error can stop the rendering of the entire JavaScript code on the website. To the user, it looks as if JavaScript was not present. However, the browsers are extremely tolerant of these errors."
   ]
  },
  {
   "cell_type": "markdown",
   "id": "53cd0e41",
   "metadata": {},
   "source": [
    "# Task 6\n",
    "#### What is fragmentation?\n",
    "----------------------------------------"
   ]
  },
  {
   "cell_type": "markdown",
   "id": "da1ddde0",
   "metadata": {},
   "source": [
    "#### Fragmentaion 'Division'\n",
    " \n",
    "1. External\n",
    " - it is a small holes in memory, not big enough to fit a process.\n",
    " - it occurs after a process execution\n",
    " - To combine these holes we needed Compaction Process ضغط\n",
    "\n",
    "\n",
    "2. Internal\n",
    " - Allocated memory may be slightly larger than requested memory\n",
    " - ex. memory is allocated in blocks of 4K and the process is 3K"
   ]
  },
  {
   "cell_type": "code",
   "execution_count": null,
   "id": "b88831ff",
   "metadata": {},
   "outputs": [],
   "source": []
  }
 ],
 "metadata": {
  "kernelspec": {
   "display_name": "Python 3 (ipykernel)",
   "language": "python",
   "name": "python3"
  },
  "language_info": {
   "codemirror_mode": {
    "name": "ipython",
    "version": 3
   },
   "file_extension": ".py",
   "mimetype": "text/x-python",
   "name": "python",
   "nbconvert_exporter": "python",
   "pygments_lexer": "ipython3",
   "version": "3.9.12"
  }
 },
 "nbformat": 4,
 "nbformat_minor": 5
}
