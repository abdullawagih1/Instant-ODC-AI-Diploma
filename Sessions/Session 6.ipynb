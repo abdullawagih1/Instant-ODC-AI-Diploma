{
 "cells": [
  {
   "cell_type": "code",
   "execution_count": 1,
   "id": "81c056c9",
   "metadata": {},
   "outputs": [],
   "source": [
    "class Human():\n",
    "    name = None\n",
    "    age = None\n",
    "    gender = None\n",
    "    height = None"
   ]
  },
  {
   "cell_type": "code",
   "execution_count": 2,
   "id": "31695d04",
   "metadata": {},
   "outputs": [],
   "source": [
    "Anas = Human()"
   ]
  },
  {
   "cell_type": "code",
   "execution_count": 3,
   "id": "266deb05",
   "metadata": {},
   "outputs": [],
   "source": [
    "Anas.name = 'Anas'\n",
    "Anas.gendar = 'male'\n",
    "Anas.height = 180\n",
    "Anas.age = 22"
   ]
  },
  {
   "cell_type": "code",
   "execution_count": 14,
   "id": "9387f338",
   "metadata": {},
   "outputs": [],
   "source": [
    "class Human():\n",
    "    \n",
    "    def __init__(self):\n",
    "        print('We start')\n",
    "        \n",
    "    name = None\n",
    "    age = None\n",
    "    gender = None\n",
    "    height = None\n",
    "    \n",
    "    def cry(self):          # you must put self as a first parameter\n",
    "        self.status = 'waaaaaa'\n",
    "        print(self.status)\n",
    "       "
   ]
  },
  {
   "cell_type": "code",
   "execution_count": 15,
   "id": "ff93dd5b",
   "metadata": {},
   "outputs": [
    {
     "name": "stdout",
     "output_type": "stream",
     "text": [
      "We start\n"
     ]
    }
   ],
   "source": [
    "a = Human()"
   ]
  },
  {
   "cell_type": "code",
   "execution_count": 13,
   "id": "dd756e1f",
   "metadata": {},
   "outputs": [
    {
     "name": "stdout",
     "output_type": "stream",
     "text": [
      "waaaa\n"
     ]
    }
   ],
   "source": [
    "a.cry()"
   ]
  },
  {
   "cell_type": "code",
   "execution_count": 24,
   "id": "879fc0c4",
   "metadata": {},
   "outputs": [],
   "source": [
    "class Human():\n",
    "    \n",
    "    def __init__(self):      \n",
    "        self.name = input()\n",
    "        self.age = int(input())\n",
    "        self.gender = input()\n",
    "        self.height = int(input())\n",
    "    \n",
    "    def cry(self, name):          # you must put self as a first parameter\n",
    "        self.status = 'waaaaaa'\n",
    "        print(self.status)\n",
    "       "
   ]
  },
  {
   "cell_type": "code",
   "execution_count": 21,
   "id": "4d885c69",
   "metadata": {},
   "outputs": [
    {
     "name": "stdout",
     "output_type": "stream",
     "text": [
      "ali\n",
      "22\n",
      "male\n",
      "180\n"
     ]
    }
   ],
   "source": [
    "a = Human()"
   ]
  },
  {
   "cell_type": "code",
   "execution_count": 23,
   "id": "9b03e031",
   "metadata": {},
   "outputs": [
    {
     "name": "stdout",
     "output_type": "stream",
     "text": [
      "waaaaaa\n"
     ]
    }
   ],
   "source": [
    "a.cry('ali')"
   ]
  },
  {
   "cell_type": "code",
   "execution_count": 34,
   "id": "94717771",
   "metadata": {},
   "outputs": [],
   "source": [
    "class BankAccount:\n",
    "    def __init__(self):\n",
    "        print('Welcome !')\n",
    "        self.username = input('Please, enter username')\n",
    "        self.__password = input('Please, enter password') # to change variable to private __pasword, to Protected _password\n",
    "        self.credit = 0\n",
    "        self.nationalid = input('Please, enter id')\n",
    "    \n",
    "    def deposit(self, amount):\n",
    "        self.credit += amount\n",
    "        \n",
    "    def withdraw(self): # to change fun to private __withdraw\n",
    "        amount = float(input('enter the amount'))\n",
    "        if amount <= self.credit:\n",
    "            self.credit -= amount\n",
    "            print('Done!')\n",
    "        \n",
    "    def changepassword(self):\n",
    "        nid = input('enter id')\n",
    "        if nid == self.nationalid:\n",
    "            try:\n",
    "                self.password = int(input('enter password'))\n",
    "                print('Done!')\n",
    "            except:\n",
    "                print('Error!')"
   ]
  },
  {
   "cell_type": "code",
   "execution_count": 27,
   "id": "133299d5",
   "metadata": {},
   "outputs": [
    {
     "name": "stdout",
     "output_type": "stream",
     "text": [
      "Welcome !\n",
      "Please, enter usernameabdullah\n",
      "Please, enter password9253887\n",
      "Please, enter id430194710371307\n"
     ]
    }
   ],
   "source": [
    "b = BankAccount()"
   ]
  },
  {
   "cell_type": "code",
   "execution_count": 28,
   "id": "ed2d1a4c",
   "metadata": {},
   "outputs": [
    {
     "data": {
      "text/plain": [
       "0"
      ]
     },
     "execution_count": 28,
     "metadata": {},
     "output_type": "execute_result"
    }
   ],
   "source": [
    "b.credit"
   ]
  },
  {
   "cell_type": "code",
   "execution_count": 30,
   "id": "da2061b4",
   "metadata": {},
   "outputs": [
    {
     "data": {
      "text/plain": [
       "'430194710371307'"
      ]
     },
     "execution_count": 30,
     "metadata": {},
     "output_type": "execute_result"
    }
   ],
   "source": [
    "b.nationalid"
   ]
  },
  {
   "cell_type": "code",
   "execution_count": 32,
   "id": "670961bd",
   "metadata": {},
   "outputs": [],
   "source": [
    "b.deposit(2000)"
   ]
  },
  {
   "cell_type": "code",
   "execution_count": 33,
   "id": "d49d5560",
   "metadata": {},
   "outputs": [
    {
     "data": {
      "text/plain": [
       "2000"
      ]
     },
     "execution_count": 33,
     "metadata": {},
     "output_type": "execute_result"
    }
   ],
   "source": [
    "b.credit"
   ]
  },
  {
   "cell_type": "code",
   "execution_count": null,
   "id": "f4e8fb98",
   "metadata": {},
   "outputs": [],
   "source": []
  },
  {
   "cell_type": "code",
   "execution_count": 36,
   "id": "29d6076e",
   "metadata": {},
   "outputs": [],
   "source": [
    "# inheritance\n",
    "class AhlyBankAccount(BankAccount):\n",
    "    pass"
   ]
  },
  {
   "cell_type": "code",
   "execution_count": 37,
   "id": "e2015711",
   "metadata": {},
   "outputs": [],
   "source": [
    "class AhlyBankAccount(BankAccount):\n",
    "    def DigitalWallet(self):\n",
    "        self.Dcredit = 0\n",
    "        print('Your wallet has been done!')\n"
   ]
  },
  {
   "cell_type": "code",
   "execution_count": 38,
   "id": "b8597aab",
   "metadata": {},
   "outputs": [],
   "source": [
    "class A:\n",
    "    def play():\n",
    "        print(\"I'm playing\")\n",
    "\n",
    "        class B:\n",
    "            def play(self):\n",
    "                print('We are playing')"
   ]
  },
  {
   "cell_type": "code",
   "execution_count": null,
   "id": "be5e7287",
   "metadata": {},
   "outputs": [],
   "source": []
  }
 ],
 "metadata": {
  "kernelspec": {
   "display_name": "Python 3 (ipykernel)",
   "language": "python",
   "name": "python3"
  },
  "language_info": {
   "codemirror_mode": {
    "name": "ipython",
    "version": 3
   },
   "file_extension": ".py",
   "mimetype": "text/x-python",
   "name": "python",
   "nbconvert_exporter": "python",
   "pygments_lexer": "ipython3",
   "version": "3.9.13"
  }
 },
 "nbformat": 4,
 "nbformat_minor": 5
}
